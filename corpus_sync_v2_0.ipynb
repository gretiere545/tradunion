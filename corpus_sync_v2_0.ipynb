{
  "nbformat": 4,
  "nbformat_minor": 0,
  "metadata": {
    "colab": {
      "name": "corpus_sync-v2.0.ipynb",
      "provenance": [],
      "collapsed_sections": [],
      "authorship_tag": "ABX9TyO4pkr4tzi2DPLq8TgE3HIZ",
      "include_colab_link": true
    },
    "kernelspec": {
      "name": "python3",
      "display_name": "Python 3"
    },
    "language_info": {
      "name": "python"
    }
  },
  "cells": [
    {
      "cell_type": "markdown",
      "metadata": {
        "id": "view-in-github",
        "colab_type": "text"
      },
      "source": [
        "<a href=\"https://colab.research.google.com/github/gretiere545/tradunion/blob/master/corpus_sync_v2_0.ipynb\" target=\"_parent\"><img src=\"https://colab.research.google.com/assets/colab-badge.svg\" alt=\"Open In Colab\"/></a>"
      ]
    },
    {
      "cell_type": "markdown",
      "metadata": {
        "id": "FB29HktrvvBJ"
      },
      "source": [
        "# Synchronisation des Corpus ASAMLA"
      ]
    },
    {
      "cell_type": "markdown",
      "metadata": {
        "id": "7P--WKJPv0Px"
      },
      "source": [
        "## Liste des Corpus à sauvegarder"
      ]
    },
    {
      "cell_type": "code",
      "metadata": {
        "colab": {
          "base_uri": "https://localhost:8080/"
        },
        "id": "_5CoZ3ORv3Bh",
        "outputId": "0d8c3f6e-e301-4e12-ba36-c4465d256edf"
      },
      "source": [
        "!pip install gspread-formatting\n",
        "import pandas as pd\n",
        "import numpy as np\n",
        "import uuid\n",
        "import random\n",
        "import os\n",
        "import re\n",
        "from gspread_formatting import *\n",
        "pd.set_option(\"display.width\",1000)\n",
        "# Ce bout de code pour pouvoir downloader des fichiers sur le drive\n",
        "from google.colab import drive\n",
        "drive.mount('/content/drive')\n",
        "# Ce bout de code pour pouvoir downloader des google sheets dans des dataframes\n",
        "from google.colab import auth\n",
        "auth.authenticate_user()\n",
        "import gspread\n",
        "from gspread_dataframe import get_as_dataframe, set_with_dataframe\n",
        "from oauth2client.client import GoogleCredentials\n",
        "gc = gspread.authorize(GoogleCredentials.get_application_default())\n",
        "!export PYTHONIOENCODING=utf8\n",
        "%cd /content/drive/MyDrive/Trad-Union/Corpus/ASAMLA\n"
      ],
      "execution_count": null,
      "outputs": [
        {
          "output_type": "stream",
          "text": [
            "Requirement already satisfied: gspread-formatting in /usr/local/lib/python3.7/dist-packages (1.0.0)\n",
            "Requirement already satisfied: gspread>=3.0.0 in /usr/local/lib/python3.7/dist-packages (from gspread-formatting) (3.0.1)\n",
            "Requirement already satisfied: requests>=2.2.1 in /usr/local/lib/python3.7/dist-packages (from gspread>=3.0.0->gspread-formatting) (2.23.0)\n",
            "Requirement already satisfied: idna<3,>=2.5 in /usr/local/lib/python3.7/dist-packages (from requests>=2.2.1->gspread>=3.0.0->gspread-formatting) (2.10)\n",
            "Requirement already satisfied: certifi>=2017.4.17 in /usr/local/lib/python3.7/dist-packages (from requests>=2.2.1->gspread>=3.0.0->gspread-formatting) (2020.12.5)\n",
            "Requirement already satisfied: chardet<4,>=3.0.2 in /usr/local/lib/python3.7/dist-packages (from requests>=2.2.1->gspread>=3.0.0->gspread-formatting) (3.0.4)\n",
            "Requirement already satisfied: urllib3!=1.25.0,!=1.25.1,<1.26,>=1.21.1 in /usr/local/lib/python3.7/dist-packages (from requests>=2.2.1->gspread>=3.0.0->gspread-formatting) (1.24.3)\n",
            "Drive already mounted at /content/drive; to attempt to forcibly remount, call drive.mount(\"/content/drive\", force_remount=True).\n",
            "/content/drive/MyDrive/Trad-Union/Corpus/ASAMLA\n"
          ],
          "name": "stdout"
        }
      ]
    },
    {
      "cell_type": "code",
      "metadata": {
        "id": "bHi93Ea3RNaI"
      },
      "source": [
        "def make_unique_id():\n",
        "  return str(uuid.uuid4())[:8]"
      ],
      "execution_count": null,
      "outputs": []
    },
    {
      "cell_type": "markdown",
      "metadata": {
        "id": "g5pYDgowwHqS"
      },
      "source": [
        "# Chargement des Corpus\n",
        "#### Ouverture de la Sheet Centrale (corpus_central_base)\n",
        "###### Cette feuille est la référence et ne peut être modifiée que par l'administrateur"
      ]
    },
    {
      "cell_type": "code",
      "metadata": {
        "id": "ghnGFU1sphV_"
      },
      "source": [
        "# Ouverture de la Sheet Centrale (corpus_central_base)\n",
        "uri = 'https://docs.google.com/spreadsheets/d/1L8YB1aXHUJwUE9AE6xyn_xMHalinGR335Q7lntwbu1U'\n",
        "wb_central = gc.open_by_url(uri)\n",
        "t_corpus = wb_central.worksheet('med_vac_synthese')\n",
        "data_t_corpus = t_corpus.get_all_values()\n",
        "df_central = pd.DataFrame(data_t_corpus[1:], columns=data_t_corpus[0])\n",
        "df_central = df_central[['uid','expression','glossaire','état','date','commentaires','index']]"
      ],
      "execution_count": null,
      "outputs": []
    },
    {
      "cell_type": "markdown",
      "metadata": {
        "id": "aX0WUR9OtJy8"
      },
      "source": [
        "### Traitement des corpus de travail (fichier unique à onglets)"
      ]
    },
    {
      "cell_type": "code",
      "metadata": {
        "id": "-A08QS3FWpck"
      },
      "source": [
        "vk_lang_dict=[\n",
        "{'language':'Arabe','trigramme':'ams','uri':'https://docs.google.com/spreadsheets/d/1HPc_VrpG0hNfgXaQB2WgeLJMsUstNAFJbAIa1xNE1HM'},\n",
        "{'language':'Turc','trigramme':'tur','uri':'https://docs.google.com/spreadsheets/d/1QTWWnOqLy8GNHfgv-8GN_4e0uxcS266dtlFR4Cjy7AY'},\n",
        "{'language':'Russe','trigramme':'rus','uri':'https://docs.google.com/spreadsheets/d/193hOJRFSXJ5QOsApEGoZdUgqTCIdlQKQ6wbXboJhmL8'},\n",
        "{'language':'Ukrainien','trigramme':'ukr','uri':'https://docs.google.com/spreadsheets/d/1PIRf2L6T_RHkcfWBtEI-IRhqHw5e0z-IdpNqqqlx-wI'},\n",
        "{'language':'Roumain','trigramme':'rou','uri':'https://docs.google.com/spreadsheets/d/1NlA186MFJVuZVHrz8ITSbgXsF8f7UkVxU54we2XAnUA'},\n",
        "{'language':'Hongrois','trigramme':'hun','uri':'https://docs.google.com/spreadsheets/d/1EZ-o6I-r1ixFCLcPcEJRT_eaSJn0Du18DWrU3QTgejE'},\n",
        "{'language':'Tigrinya','trigramme':'tig','uri':'https://docs.google.com/spreadsheets/d/1m778VcSgqu02vHZrMOOWfLUIMVPDYmQNhz1X3myU4-A'},\n",
        "{'language':'Albanais','trigramme':'alb','uri':'https://docs.google.com/spreadsheets/d/1sU7xGhHfxqkzKm4y2EwHqiZhxc2yjuOMLGDdFXcQkNg'},\n",
        "{'language':'Géorgien','trigramme':'geo','uri':'https://docs.google.com/spreadsheets/d/1PH58PFAfIItNr7AJpjiFp1yo6bMlgWy8C6P245FBWIA'},\n",
        "{'language':'Arménien','trigramme':'arm','uri':'https://docs.google.com/spreadsheets/d/1kUXerjG8EpagYaDHKBMteGriCXOUHRz0YgoyKXINU9g'},\n",
        "{'language':'Dari','trigramme':'dar','uri':'https://docs.google.com/spreadsheets/d/1QOAUccnSLIv5qqxkjq0w-tPOX2L0pqMGgB3EqhosOEc'},\n",
        "{'language':'Pashto','trigramme':'pst','uri':'https://docs.google.com/spreadsheets/d/1_5h6U8g9ymzeX9jjGFeBOancOYSMolsNG0LV0xzk4W8'},\n",
        "{'language':'Fârsi','trigramme':'prs','uri':'https://docs.google.com/spreadsheets/d/1PlitiSFEqF3KKzDiojIv_XMMKxvQfREPIJjmm8drFQE'},\n",
        "{'language':'Azéri','trigramme':'aze','uri':'https://docs.google.com/spreadsheets/d/1Er7Y22UsH2CkROYi0Pbdm1H5hYU8JTnWhYRIG3Syh7E'},\n",
        "{'language':'Espagnol','trigramme':'esp','uri':'https://docs.google.com/spreadsheets/d/1AGHS6d1ujAgbasHtK4_no4wH2B8UoQQgh4UJnPtZ3fk'},\n",
        "{'language':'Amharique','trigramme':'amh','uri':'https://docs.google.com/spreadsheets/d/1Oi90BvCMzsawUfFohpzWDKblUA0CdTKt1UIFJVCP088'},\n",
        "{'language':'Peul','trigramme':'fma','uri':'https://docs.google.com/spreadsheets/d/1He3466RGbwkMIJUbo0eHY6lVnr7ka7t-K0qp_LL5r1M'},\n",
        "]"
      ],
      "execution_count": null,
      "outputs": []
    },
    {
      "cell_type": "code",
      "metadata": {
        "id": "Lv4qBn3ZwGVS"
      },
      "source": [
        "# Corpus de travail\n",
        "uri = \"https://docs.google.com/spreadsheets/d/1CclzYfFCW4srA3Lq_np2LpSrxj84JpcbzytL449DH8E\"\n",
        "wb_travail = gc.open_by_url(uri)"
      ],
      "execution_count": null,
      "outputs": []
    },
    {
      "cell_type": "markdown",
      "metadata": {
        "id": "KgAPyxaRWgGK"
      },
      "source": [
        "## Chargement des corpus dans un DF (un par langue/onglet)"
      ]
    },
    {
      "cell_type": "code",
      "metadata": {
        "id": "nzGsGA9UoRDL"
      },
      "source": [
        "def fetch_onglet_into_df(wb, idx):\n",
        "  #ouverture de l'onglet Corpus dans un DF\n",
        "  t_corpus = wb.get_worksheet(idx+1)\n",
        "  data_t_corpus = t_corpus.get_all_values()\n",
        "  df = pd.DataFrame(data_t_corpus[1:], columns=data_t_corpus[0])\n",
        "  return df"
      ],
      "execution_count": null,
      "outputs": []
    },
    {
      "cell_type": "code",
      "metadata": {
        "colab": {
          "base_uri": "https://localhost:8080/"
        },
        "id": "n1Z_s4WSYCk1",
        "outputId": "48da53b0-0edc-4c35-d4b9-8bcda911216c"
      },
      "source": [
        "df_corpus=[] \n",
        "#ouverture de chaque onglet Corpus de travail dans un DF\n",
        "for index, item in enumerate(vk_lang_dict):\n",
        "  df_corpus.append (fetch_onglet_into_df(wb_travail,index))"
      ],
      "execution_count": null,
      "outputs": [
        {
          "output_type": "stream",
          "text": [
            "0 {'language': 'Arabe', 'trigramme': 'ams', 'uri': 'https://docs.google.com/spreadsheets/d/1HPc_VrpG0hNfgXaQB2WgeLJMsUstNAFJbAIa1xNE1HM'}\n",
            "1 {'language': 'Turc', 'trigramme': 'tur', 'uri': 'https://docs.google.com/spreadsheets/d/1QTWWnOqLy8GNHfgv-8GN_4e0uxcS266dtlFR4Cjy7AY'}\n",
            "2 {'language': 'Russe', 'trigramme': 'rus', 'uri': 'https://docs.google.com/spreadsheets/d/193hOJRFSXJ5QOsApEGoZdUgqTCIdlQKQ6wbXboJhmL8'}\n",
            "3 {'language': 'Ukrainien', 'trigramme': 'ukr', 'uri': 'https://docs.google.com/spreadsheets/d/1PIRf2L6T_RHkcfWBtEI-IRhqHw5e0z-IdpNqqqlx-wI'}\n",
            "4 {'language': 'Roumain', 'trigramme': 'rou', 'uri': 'https://docs.google.com/spreadsheets/d/1NlA186MFJVuZVHrz8ITSbgXsF8f7UkVxU54we2XAnUA'}\n",
            "5 {'language': 'Hongrois', 'trigramme': 'hun', 'uri': 'https://docs.google.com/spreadsheets/d/1EZ-o6I-r1ixFCLcPcEJRT_eaSJn0Du18DWrU3QTgejE'}\n",
            "6 {'language': 'Tigrinya', 'trigramme': 'tig', 'uri': 'https://docs.google.com/spreadsheets/d/1m778VcSgqu02vHZrMOOWfLUIMVPDYmQNhz1X3myU4-A'}\n",
            "7 {'language': 'Albanais', 'trigramme': 'alb', 'uri': 'https://docs.google.com/spreadsheets/d/1sU7xGhHfxqkzKm4y2EwHqiZhxc2yjuOMLGDdFXcQkNg'}\n",
            "8 {'language': 'Géorgien', 'trigramme': 'geo', 'uri': 'https://docs.google.com/spreadsheets/d/1PH58PFAfIItNr7AJpjiFp1yo6bMlgWy8C6P245FBWIA'}\n",
            "9 {'language': 'Arménien', 'trigramme': 'arm', 'uri': 'https://docs.google.com/spreadsheets/d/1kUXerjG8EpagYaDHKBMteGriCXOUHRz0YgoyKXINU9g'}\n",
            "10 {'language': 'Dari', 'trigramme': 'dar', 'uri': 'https://docs.google.com/spreadsheets/d/1QOAUccnSLIv5qqxkjq0w-tPOX2L0pqMGgB3EqhosOEc'}\n",
            "11 {'language': 'Pashto', 'trigramme': 'pst', 'uri': 'https://docs.google.com/spreadsheets/d/1_5h6U8g9ymzeX9jjGFeBOancOYSMolsNG0LV0xzk4W8'}\n",
            "12 {'language': 'Fârsi', 'trigramme': 'prs', 'uri': 'https://docs.google.com/spreadsheets/d/1PlitiSFEqF3KKzDiojIv_XMMKxvQfREPIJjmm8drFQE'}\n",
            "13 {'language': 'Azéri', 'trigramme': 'aze', 'uri': 'https://docs.google.com/spreadsheets/d/1Er7Y22UsH2CkROYi0Pbdm1H5hYU8JTnWhYRIG3Syh7E'}\n",
            "14 {'language': 'Espagnol', 'trigramme': 'esp', 'uri': 'https://docs.google.com/spreadsheets/d/1AGHS6d1ujAgbasHtK4_no4wH2B8UoQQgh4UJnPtZ3fk'}\n",
            "15 {'language': 'Amharique', 'trigramme': 'amh', 'uri': 'https://docs.google.com/spreadsheets/d/1Oi90BvCMzsawUfFohpzWDKblUA0CdTKt1UIFJVCP088'}\n",
            "16 {'language': 'Peul', 'trigramme': 'fma', 'uri': 'https://docs.google.com/spreadsheets/d/1He3466RGbwkMIJUbo0eHY6lVnr7ka7t-K0qp_LL5r1M'}\n"
          ],
          "name": "stdout"
        }
      ]
    },
    {
      "cell_type": "markdown",
      "metadata": {
        "id": "_fv8Rm8KdCQK"
      },
      "source": [
        "### Recopie dans le DF central de chaque DF de travail : 1 DF = 1 colonne"
      ]
    },
    {
      "cell_type": "code",
      "metadata": {
        "id": "xYAbMf44aSfk"
      },
      "source": [
        "for index, item in enumerate(vk_lang_dict):\n",
        "  df_central = pd.merge(df_central, df_corpus[index][['uid','traduction']],on='uid', how='left')\n",
        "  df_central.rename({'traduction':item['trigramme']}, axis=1, inplace=True)\n",
        "\n"
      ],
      "execution_count": null,
      "outputs": []
    },
    {
      "cell_type": "markdown",
      "metadata": {
        "id": "dllNG25LfiU3"
      },
      "source": [
        "### Formatage de la feuille centrale"
      ]
    },
    {
      "cell_type": "code",
      "metadata": {
        "id": "OrZEKfdm0aHm"
      },
      "source": [
        "def format_feuille(wb, nom_onglet):\n",
        "  # onglet\n",
        "  ws = wb.worksheet(nom_onglet)\n",
        "  # Format de la partie gauche\n",
        "  fmt = cellFormat(\n",
        "      backgroundColor=color(0.91, 0.96, 0.93),\n",
        "      textFormat=textFormat(bold=False, foregroundColor=color(0,0,0), fontSize='10'),\n",
        "      horizontalAlignment='LEFT'\n",
        "      )\n",
        "  format_cell_range(ws, 'A:G', fmt)\n",
        "\n",
        "  # format de l'entete\n",
        "  fmt = cellFormat(\n",
        "      backgroundColor=color(0.7725,0.8431,0.7922),\n",
        "      textFormat=textFormat(bold=True, foregroundColor=color(0,0,0), fontSize='10'),\n",
        "      horizontalAlignment='LEFT'\n",
        "      )\n",
        "  format_cell_range(ws, '1', fmt)\n",
        "  \n",
        "  # on gèle l'entete et les colonnes de gauche\n",
        "  set_frozen(ws, rows=1, cols=7)\n",
        "  set_column_width(ws, 'A', 100)\n",
        "  set_column_width(ws, 'B', 300)\n",
        "  set_column_width(ws, 'H:', 200)"
      ],
      "execution_count": null,
      "outputs": []
    },
    {
      "cell_type": "markdown",
      "metadata": {
        "id": "jS2t4j2ffmnV"
      },
      "source": [
        "## Sauvegarde de la feuille centrale"
      ]
    },
    {
      "cell_type": "code",
      "metadata": {
        "id": "k3Nuv_bTdota"
      },
      "source": [
        "df_central_synth = df_central.copy()\n",
        "nom_onglet = 'med_vac_synthese'\n",
        "# si l'onglet existe déjà\n",
        "try:\n",
        "  ws = wb_central.worksheet(nom_onglet)\n",
        "  wb_central.del_worksheet(ws)\n",
        "except:\n",
        "  print (\"Onglet inexistant !\")\n",
        "# supprime les doublons\n",
        "df_central_synth = df_central_synth.drop_duplicates()\n",
        "wb_central.add_worksheet(nom_onglet, 1, 1)\n",
        "export_sheet = wb_central.worksheet(nom_onglet)\n",
        "set_with_dataframe(export_sheet, df_central_synth)\n",
        "format_feuille(wb_central, nom_onglet)"
      ],
      "execution_count": null,
      "outputs": []
    },
    {
      "cell_type": "markdown",
      "metadata": {
        "id": "oZ1OXjDtfrVz"
      },
      "source": [
        "#FIN"
      ]
    },
    {
      "cell_type": "code",
      "metadata": {
        "id": "eH-eC5r_fs_Y"
      },
      "source": [
        ""
      ],
      "execution_count": null,
      "outputs": []
    }
  ]
}