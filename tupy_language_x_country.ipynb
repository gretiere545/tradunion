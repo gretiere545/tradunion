{
  "nbformat": 4,
  "nbformat_minor": 0,
  "metadata": {
    "colab": {
      "name": "tupy-language_x_country.ipynb",
      "provenance": [],
      "authorship_tag": "ABX9TyM6F/2Dv2fuDzk0utCu82/f",
      "include_colab_link": true
    },
    "kernelspec": {
      "name": "python3",
      "display_name": "Python 3"
    }
  },
  "cells": [
    {
      "cell_type": "markdown",
      "metadata": {
        "id": "view-in-github",
        "colab_type": "text"
      },
      "source": [
        "<a href=\"https://colab.research.google.com/github/gretiere545/tradunion/blob/master/tupy_language_x_country.ipynb\" target=\"_parent\"><img src=\"https://colab.research.google.com/assets/colab-badge.svg\" alt=\"Open In Colab\"/></a>"
      ]
    },
    {
      "cell_type": "markdown",
      "metadata": {
        "id": "7hYnuf3Jt0Yo",
        "colab_type": "text"
      },
      "source": [
        "# Code permettant d'ajouter une langue et de transformer les vecteurs countrycodes en tuples"
      ]
    },
    {
      "cell_type": "code",
      "metadata": {
        "id": "4uK1_4dH3jI_",
        "colab_type": "code",
        "colab": {}
      },
      "source": [
        "import pandas as pd\n",
        "import numpy as np"
      ],
      "execution_count": 2,
      "outputs": []
    },
    {
      "cell_type": "code",
      "metadata": {
        "id": "5qnLrQXQ4v7d",
        "colab_type": "code",
        "colab": {}
      },
      "source": [
        "pd.set_option(\"display.width\",1000)"
      ],
      "execution_count": 5,
      "outputs": []
    },
    {
      "cell_type": "code",
      "metadata": {
        "id": "KStPSlzO3tco",
        "colab_type": "code",
        "colab": {
          "base_uri": "https://localhost:8080/",
          "height": 122
        },
        "outputId": "0bf639d3-629d-45c1-f3f5-10701ffef037"
      },
      "source": [
        "# Ce bout de code pour pouvoir downloader des fichiers sur le drive\n",
        "from google.colab import drive\n",
        "drive.mount('/content/drive')"
      ],
      "execution_count": 3,
      "outputs": [
        {
          "output_type": "stream",
          "text": [
            "Go to this URL in a browser: https://accounts.google.com/o/oauth2/auth?client_id=947318989803-6bn6qk8qdgf4n4g3pfee6491hc0brc4i.apps.googleusercontent.com&redirect_uri=urn%3aietf%3awg%3aoauth%3a2.0%3aoob&scope=email%20https%3a%2f%2fwww.googleapis.com%2fauth%2fdocs.test%20https%3a%2f%2fwww.googleapis.com%2fauth%2fdrive%20https%3a%2f%2fwww.googleapis.com%2fauth%2fdrive.photos.readonly%20https%3a%2f%2fwww.googleapis.com%2fauth%2fpeopleapi.readonly&response_type=code\n",
            "\n",
            "Enter your authorization code:\n",
            "··········\n",
            "Mounted at /content/drive\n"
          ],
          "name": "stdout"
        }
      ]
    },
    {
      "cell_type": "code",
      "metadata": {
        "id": "0Gal4iRw4G7_",
        "colab_type": "code",
        "colab": {}
      },
      "source": [
        "# !ls \"/content/drive/My Drive/Trad-Union/Cours/Géographie des langues\""
      ],
      "execution_count": 4,
      "outputs": []
    },
    {
      "cell_type": "markdown",
      "metadata": {
        "id": "zFxAnYDGztH5",
        "colab_type": "text"
      },
      "source": [
        "## Intégration des documents google drive dans pandas"
      ]
    },
    {
      "cell_type": "code",
      "metadata": {
        "id": "BIZh_kpvxlEY",
        "colab_type": "code",
        "colab": {}
      },
      "source": [
        "from google.colab import auth\n",
        "auth.authenticate_user()\n",
        "import gspread\n",
        "from gspread_dataframe import get_as_dataframe, set_with_dataframe\n",
        "from oauth2client.client import GoogleCredentials\n",
        "gc = gspread.authorize(GoogleCredentials.get_application_default())"
      ],
      "execution_count": 45,
      "outputs": []
    },
    {
      "cell_type": "markdown",
      "metadata": {
        "id": "0w4qq8Lm0DLH",
        "colab_type": "text"
      },
      "source": [
        "### importation du workbook **tu-wb-1** et chargement de la table **t_lang** dans un dataframe"
      ]
    },
    {
      "cell_type": "code",
      "metadata": {
        "id": "9LK_pLPPx_OY",
        "colab_type": "code",
        "colab": {}
      },
      "source": [
        "wb = gc.open_by_url('https://docs.google.com/spreadsheets/d/1bMnE2PYl6niMHV7_bXJqTR9GJRLyitW1ANjFvemf8Q4')\n",
        "sheet = wb.worksheet('t_lang')\n",
        "data = sheet.get_all_values()\n",
        "df = pd.DataFrame(data[1:], columns=data[0])"
      ],
      "execution_count": 73,
      "outputs": []
    },
    {
      "cell_type": "markdown",
      "metadata": {
        "id": "BZqvXJOgw8Dm",
        "colab_type": "text"
      },
      "source": [
        "Inversement de vecteur : chaque liste de code pays est convertie en autant de tuples code langue, code pays."
      ]
    },
    {
      "cell_type": "code",
      "metadata": {
        "id": "_25_VFuK5RE0",
        "colab_type": "code",
        "colab": {}
      },
      "source": [
        "df['vk'] = df.countrycodes.str.split(\" \")\n",
        "df = df.explode('vk')"
      ],
      "execution_count": 74,
      "outputs": []
    },
    {
      "cell_type": "markdown",
      "metadata": {
        "id": "ll2Jd-P3xqBV",
        "colab_type": "text"
      },
      "source": [
        "On ne conserve que les colonnes utiles"
      ]
    },
    {
      "cell_type": "code",
      "metadata": {
        "id": "TWYwQ8x0ylJ2",
        "colab_type": "code",
        "colab": {}
      },
      "source": [
        "df = df[[\"key_id\",\"wals_code\",\"vk\"]]\n",
        "df.rename(columns={\"vk\":\"alpha-2_id\"}, inplace=True)"
      ],
      "execution_count": 75,
      "outputs": []
    },
    {
      "cell_type": "code",
      "metadata": {
        "id": "uEZrM9TtzC-c",
        "colab_type": "code",
        "colab": {}
      },
      "source": [
        "df[\"key_id\"] = df.apply(lambda x: x[\"key_id\"]+\"-\"+x[\"alpha-2_id\"], axis=1)"
      ],
      "execution_count": 76,
      "outputs": []
    },
    {
      "cell_type": "code",
      "metadata": {
        "id": "8Qh95MXxFPlo",
        "colab_type": "code",
        "colab": {}
      },
      "source": [
        "added = df.loc[ df.wals_code == \"dzo\"]\n",
        "export_sheet = wb.worksheet('dev')\n",
        "set_with_dataframe(export_sheet, added)"
      ],
      "execution_count": 79,
      "outputs": []
    },
    {
      "cell_type": "code",
      "metadata": {
        "id": "RGoJK6-k189L",
        "colab_type": "code",
        "colab": {}
      },
      "source": [
        "export_sheet = wb.worksheet('t_lang_X_ctry')\n",
        "set_with_dataframe(export_sheet, df)\n"
      ],
      "execution_count": 78,
      "outputs": []
    },
    {
      "cell_type": "code",
      "metadata": {
        "id": "rnVKMqnp_NJB",
        "colab_type": "code",
        "colab": {}
      },
      "source": [
        ""
      ],
      "execution_count": null,
      "outputs": []
    }
  ]
}