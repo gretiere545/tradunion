{
  "nbformat": 4,
  "nbformat_minor": 0,
  "metadata": {
    "colab": {
      "name": "corpus_glossary_builder_v2-simple.ipynb",
      "provenance": [],
      "collapsed_sections": [],
      "authorship_tag": "ABX9TyNZthOrHHh0je1oWdhEyHCu",
      "include_colab_link": true
    },
    "kernelspec": {
      "name": "python3",
      "display_name": "Python 3"
    },
    "language_info": {
      "name": "python"
    }
  },
  "cells": [
    {
      "cell_type": "markdown",
      "metadata": {
        "id": "view-in-github",
        "colab_type": "text"
      },
      "source": [
        "<a href=\"https://colab.research.google.com/github/gretiere545/tradunion/blob/master/corpus_glossary_builder_v2_simple.ipynb\" target=\"_parent\"><img src=\"https://colab.research.google.com/assets/colab-badge.svg\" alt=\"Open In Colab\"/></a>"
      ]
    },
    {
      "cell_type": "markdown",
      "metadata": {
        "id": "FB29HktrvvBJ"
      },
      "source": [
        "# Création d'un glossaire alphabétique des Corpus ASAMLA"
      ]
    },
    {
      "cell_type": "markdown",
      "metadata": {
        "id": "7P--WKJPv0Px"
      },
      "source": [
        "## Chargement des Corpus"
      ]
    },
    {
      "cell_type": "code",
      "metadata": {
        "id": "_5CoZ3ORv3Bh"
      },
      "source": [
        "#!/usr/bin/env python\n",
        "# -*- coding: utf8 -*-\n",
        "\n",
        "!pip install fpdf\n",
        "!pip install arabic_reshaper\n",
        "# https://pyfpdfbook.wordpress.com/2015/03/22/putting-two-adjacent-multicell-blocks/\n",
        "import pandas as pd\n",
        "import numpy as np\n",
        "from fpdf import FPDF\n",
        "import arabic_reshaper\n",
        "pd.set_option(\"display.width\",1000)\n",
        "# Ce bout de code pour pouvoir downloader des fichiers sur le drive\n",
        "from google.colab import drive\n",
        "drive.mount('/content/drive')\n",
        "from google.colab import files\n",
        "\n",
        "# Ce bout de code pour pouvoir downloader des google sheets dans des dataframes\n",
        "from google.colab import auth\n",
        "auth.authenticate_user()\n",
        "import gspread\n",
        "from gspread_dataframe import get_as_dataframe, set_with_dataframe\n",
        "from oauth2client.client import GoogleCredentials\n",
        "gc = gspread.authorize(GoogleCredentials.get_application_default())\n",
        "!export PYTHONIOENCODING=utf8\n",
        "%cd /content/drive/MyDrive/Trad-Union/Corpus/ASAMLA\n"
      ],
      "execution_count": null,
      "outputs": []
    },
    {
      "cell_type": "code",
      "metadata": {
        "colab": {
          "resources": {
            "http://localhost:8080/nbextensions/google.colab/files.js": {
              "data": "Ly8gQ29weXJpZ2h0IDIwMTcgR29vZ2xlIExMQwovLwovLyBMaWNlbnNlZCB1bmRlciB0aGUgQXBhY2hlIExpY2Vuc2UsIFZlcnNpb24gMi4wICh0aGUgIkxpY2Vuc2UiKTsKLy8geW91IG1heSBub3QgdXNlIHRoaXMgZmlsZSBleGNlcHQgaW4gY29tcGxpYW5jZSB3aXRoIHRoZSBMaWNlbnNlLgovLyBZb3UgbWF5IG9idGFpbiBhIGNvcHkgb2YgdGhlIExpY2Vuc2UgYXQKLy8KLy8gICAgICBodHRwOi8vd3d3LmFwYWNoZS5vcmcvbGljZW5zZXMvTElDRU5TRS0yLjAKLy8KLy8gVW5sZXNzIHJlcXVpcmVkIGJ5IGFwcGxpY2FibGUgbGF3IG9yIGFncmVlZCB0byBpbiB3cml0aW5nLCBzb2Z0d2FyZQovLyBkaXN0cmlidXRlZCB1bmRlciB0aGUgTGljZW5zZSBpcyBkaXN0cmlidXRlZCBvbiBhbiAiQVMgSVMiIEJBU0lTLAovLyBXSVRIT1VUIFdBUlJBTlRJRVMgT1IgQ09ORElUSU9OUyBPRiBBTlkgS0lORCwgZWl0aGVyIGV4cHJlc3Mgb3IgaW1wbGllZC4KLy8gU2VlIHRoZSBMaWNlbnNlIGZvciB0aGUgc3BlY2lmaWMgbGFuZ3VhZ2UgZ292ZXJuaW5nIHBlcm1pc3Npb25zIGFuZAovLyBsaW1pdGF0aW9ucyB1bmRlciB0aGUgTGljZW5zZS4KCi8qKgogKiBAZmlsZW92ZXJ2aWV3IEhlbHBlcnMgZm9yIGdvb2dsZS5jb2xhYiBQeXRob24gbW9kdWxlLgogKi8KKGZ1bmN0aW9uKHNjb3BlKSB7CmZ1bmN0aW9uIHNwYW4odGV4dCwgc3R5bGVBdHRyaWJ1dGVzID0ge30pIHsKICBjb25zdCBlbGVtZW50ID0gZG9jdW1lbnQuY3JlYXRlRWxlbWVudCgnc3BhbicpOwogIGVsZW1lbnQudGV4dENvbnRlbnQgPSB0ZXh0OwogIGZvciAoY29uc3Qga2V5IG9mIE9iamVjdC5rZXlzKHN0eWxlQXR0cmlidXRlcykpIHsKICAgIGVsZW1lbnQuc3R5bGVba2V5XSA9IHN0eWxlQXR0cmlidXRlc1trZXldOwogIH0KICByZXR1cm4gZWxlbWVudDsKfQoKLy8gTWF4IG51bWJlciBvZiBieXRlcyB3aGljaCB3aWxsIGJlIHVwbG9hZGVkIGF0IGEgdGltZS4KY29uc3QgTUFYX1BBWUxPQURfU0laRSA9IDEwMCAqIDEwMjQ7CgpmdW5jdGlvbiBfdXBsb2FkRmlsZXMoaW5wdXRJZCwgb3V0cHV0SWQpIHsKICBjb25zdCBzdGVwcyA9IHVwbG9hZEZpbGVzU3RlcChpbnB1dElkLCBvdXRwdXRJZCk7CiAgY29uc3Qgb3V0cHV0RWxlbWVudCA9IGRvY3VtZW50LmdldEVsZW1lbnRCeUlkKG91dHB1dElkKTsKICAvLyBDYWNoZSBzdGVwcyBvbiB0aGUgb3V0cHV0RWxlbWVudCB0byBtYWtlIGl0IGF2YWlsYWJsZSBmb3IgdGhlIG5leHQgY2FsbAogIC8vIHRvIHVwbG9hZEZpbGVzQ29udGludWUgZnJvbSBQeXRob24uCiAgb3V0cHV0RWxlbWVudC5zdGVwcyA9IHN0ZXBzOwoKICByZXR1cm4gX3VwbG9hZEZpbGVzQ29udGludWUob3V0cHV0SWQpOwp9CgovLyBUaGlzIGlzIHJvdWdobHkgYW4gYXN5bmMgZ2VuZXJhdG9yIChub3Qgc3VwcG9ydGVkIGluIHRoZSBicm93c2VyIHlldCksCi8vIHdoZXJlIHRoZXJlIGFyZSBtdWx0aXBsZSBhc3luY2hyb25vdXMgc3RlcHMgYW5kIHRoZSBQeXRob24gc2lkZSBpcyBnb2luZwovLyB0byBwb2xsIGZvciBjb21wbGV0aW9uIG9mIGVhY2ggc3RlcC4KLy8gVGhpcyB1c2VzIGEgUHJvbWlzZSB0byBibG9jayB0aGUgcHl0aG9uIHNpZGUgb24gY29tcGxldGlvbiBvZiBlYWNoIHN0ZXAsCi8vIHRoZW4gcGFzc2VzIHRoZSByZXN1bHQgb2YgdGhlIHByZXZpb3VzIHN0ZXAgYXMgdGhlIGlucHV0IHRvIHRoZSBuZXh0IHN0ZXAuCmZ1bmN0aW9uIF91cGxvYWRGaWxlc0NvbnRpbnVlKG91dHB1dElkKSB7CiAgY29uc3Qgb3V0cHV0RWxlbWVudCA9IGRvY3VtZW50LmdldEVsZW1lbnRCeUlkKG91dHB1dElkKTsKICBjb25zdCBzdGVwcyA9IG91dHB1dEVsZW1lbnQuc3RlcHM7CgogIGNvbnN0IG5leHQgPSBzdGVwcy5uZXh0KG91dHB1dEVsZW1lbnQubGFzdFByb21pc2VWYWx1ZSk7CiAgcmV0dXJuIFByb21pc2UucmVzb2x2ZShuZXh0LnZhbHVlLnByb21pc2UpLnRoZW4oKHZhbHVlKSA9PiB7CiAgICAvLyBDYWNoZSB0aGUgbGFzdCBwcm9taXNlIHZhbHVlIHRvIG1ha2UgaXQgYXZhaWxhYmxlIHRvIHRoZSBuZXh0CiAgICAvLyBzdGVwIG9mIHRoZSBnZW5lcmF0b3IuCiAgICBvdXRwdXRFbGVtZW50Lmxhc3RQcm9taXNlVmFsdWUgPSB2YWx1ZTsKICAgIHJldHVybiBuZXh0LnZhbHVlLnJlc3BvbnNlOwogIH0pOwp9CgovKioKICogR2VuZXJhdG9yIGZ1bmN0aW9uIHdoaWNoIGlzIGNhbGxlZCBiZXR3ZWVuIGVhY2ggYXN5bmMgc3RlcCBvZiB0aGUgdXBsb2FkCiAqIHByb2Nlc3MuCiAqIEBwYXJhbSB7c3RyaW5nfSBpbnB1dElkIEVsZW1lbnQgSUQgb2YgdGhlIGlucHV0IGZpbGUgcGlja2VyIGVsZW1lbnQuCiAqIEBwYXJhbSB7c3RyaW5nfSBvdXRwdXRJZCBFbGVtZW50IElEIG9mIHRoZSBvdXRwdXQgZGlzcGxheS4KICogQHJldHVybiB7IUl0ZXJhYmxlPCFPYmplY3Q+fSBJdGVyYWJsZSBvZiBuZXh0IHN0ZXBzLgogKi8KZnVuY3Rpb24qIHVwbG9hZEZpbGVzU3RlcChpbnB1dElkLCBvdXRwdXRJZCkgewogIGNvbnN0IGlucHV0RWxlbWVudCA9IGRvY3VtZW50LmdldEVsZW1lbnRCeUlkKGlucHV0SWQpOwogIGlucHV0RWxlbWVudC5kaXNhYmxlZCA9IGZhbHNlOwoKICBjb25zdCBvdXRwdXRFbGVtZW50ID0gZG9jdW1lbnQuZ2V0RWxlbWVudEJ5SWQob3V0cHV0SWQpOwogIG91dHB1dEVsZW1lbnQuaW5uZXJIVE1MID0gJyc7CgogIGNvbnN0IHBpY2tlZFByb21pc2UgPSBuZXcgUHJvbWlzZSgocmVzb2x2ZSkgPT4gewogICAgaW5wdXRFbGVtZW50LmFkZEV2ZW50TGlzdGVuZXIoJ2NoYW5nZScsIChlKSA9PiB7CiAgICAgIHJlc29sdmUoZS50YXJnZXQuZmlsZXMpOwogICAgfSk7CiAgfSk7CgogIGNvbnN0IGNhbmNlbCA9IGRvY3VtZW50LmNyZWF0ZUVsZW1lbnQoJ2J1dHRvbicpOwogIGlucHV0RWxlbWVudC5wYXJlbnRFbGVtZW50LmFwcGVuZENoaWxkKGNhbmNlbCk7CiAgY2FuY2VsLnRleHRDb250ZW50ID0gJ0NhbmNlbCB1cGxvYWQnOwogIGNvbnN0IGNhbmNlbFByb21pc2UgPSBuZXcgUHJvbWlzZSgocmVzb2x2ZSkgPT4gewogICAgY2FuY2VsLm9uY2xpY2sgPSAoKSA9PiB7CiAgICAgIHJlc29sdmUobnVsbCk7CiAgICB9OwogIH0pOwoKICAvLyBXYWl0IGZvciB0aGUgdXNlciB0byBwaWNrIHRoZSBmaWxlcy4KICBjb25zdCBmaWxlcyA9IHlpZWxkIHsKICAgIHByb21pc2U6IFByb21pc2UucmFjZShbcGlja2VkUHJvbWlzZSwgY2FuY2VsUHJvbWlzZV0pLAogICAgcmVzcG9uc2U6IHsKICAgICAgYWN0aW9uOiAnc3RhcnRpbmcnLAogICAgfQogIH07CgogIGNhbmNlbC5yZW1vdmUoKTsKCiAgLy8gRGlzYWJsZSB0aGUgaW5wdXQgZWxlbWVudCBzaW5jZSBmdXJ0aGVyIHBpY2tzIGFyZSBub3QgYWxsb3dlZC4KICBpbnB1dEVsZW1lbnQuZGlzYWJsZWQgPSB0cnVlOwoKICBpZiAoIWZpbGVzKSB7CiAgICByZXR1cm4gewogICAgICByZXNwb25zZTogewogICAgICAgIGFjdGlvbjogJ2NvbXBsZXRlJywKICAgICAgfQogICAgfTsKICB9CgogIGZvciAoY29uc3QgZmlsZSBvZiBmaWxlcykgewogICAgY29uc3QgbGkgPSBkb2N1bWVudC5jcmVhdGVFbGVtZW50KCdsaScpOwogICAgbGkuYXBwZW5kKHNwYW4oZmlsZS5uYW1lLCB7Zm9udFdlaWdodDogJ2JvbGQnfSkpOwogICAgbGkuYXBwZW5kKHNwYW4oCiAgICAgICAgYCgke2ZpbGUudHlwZSB8fCAnbi9hJ30pIC0gJHtmaWxlLnNpemV9IGJ5dGVzLCBgICsKICAgICAgICBgbGFzdCBtb2RpZmllZDogJHsKICAgICAgICAgICAgZmlsZS5sYXN0TW9kaWZpZWREYXRlID8gZmlsZS5sYXN0TW9kaWZpZWREYXRlLnRvTG9jYWxlRGF0ZVN0cmluZygpIDoKICAgICAgICAgICAgICAgICAgICAgICAgICAgICAgICAgICAgJ24vYSd9IC0gYCkpOwogICAgY29uc3QgcGVyY2VudCA9IHNwYW4oJzAlIGRvbmUnKTsKICAgIGxpLmFwcGVuZENoaWxkKHBlcmNlbnQpOwoKICAgIG91dHB1dEVsZW1lbnQuYXBwZW5kQ2hpbGQobGkpOwoKICAgIGNvbnN0IGZpbGVEYXRhUHJvbWlzZSA9IG5ldyBQcm9taXNlKChyZXNvbHZlKSA9PiB7CiAgICAgIGNvbnN0IHJlYWRlciA9IG5ldyBGaWxlUmVhZGVyKCk7CiAgICAgIHJlYWRlci5vbmxvYWQgPSAoZSkgPT4gewogICAgICAgIHJlc29sdmUoZS50YXJnZXQucmVzdWx0KTsKICAgICAgfTsKICAgICAgcmVhZGVyLnJlYWRBc0FycmF5QnVmZmVyKGZpbGUpOwogICAgfSk7CiAgICAvLyBXYWl0IGZvciB0aGUgZGF0YSB0byBiZSByZWFkeS4KICAgIGxldCBmaWxlRGF0YSA9IHlpZWxkIHsKICAgICAgcHJvbWlzZTogZmlsZURhdGFQcm9taXNlLAogICAgICByZXNwb25zZTogewogICAgICAgIGFjdGlvbjogJ2NvbnRpbnVlJywKICAgICAgfQogICAgfTsKCiAgICAvLyBVc2UgYSBjaHVua2VkIHNlbmRpbmcgdG8gYXZvaWQgbWVzc2FnZSBzaXplIGxpbWl0cy4gU2VlIGIvNjIxMTU2NjAuCiAgICBsZXQgcG9zaXRpb24gPSAwOwogICAgZG8gewogICAgICBjb25zdCBsZW5ndGggPSBNYXRoLm1pbihmaWxlRGF0YS5ieXRlTGVuZ3RoIC0gcG9zaXRpb24sIE1BWF9QQVlMT0FEX1NJWkUpOwogICAgICBjb25zdCBjaHVuayA9IG5ldyBVaW50OEFycmF5KGZpbGVEYXRhLCBwb3NpdGlvbiwgbGVuZ3RoKTsKICAgICAgcG9zaXRpb24gKz0gbGVuZ3RoOwoKICAgICAgY29uc3QgYmFzZTY0ID0gYnRvYShTdHJpbmcuZnJvbUNoYXJDb2RlLmFwcGx5KG51bGwsIGNodW5rKSk7CiAgICAgIHlpZWxkIHsKICAgICAgICByZXNwb25zZTogewogICAgICAgICAgYWN0aW9uOiAnYXBwZW5kJywKICAgICAgICAgIGZpbGU6IGZpbGUubmFtZSwKICAgICAgICAgIGRhdGE6IGJhc2U2NCwKICAgICAgICB9LAogICAgICB9OwoKICAgICAgbGV0IHBlcmNlbnREb25lID0gZmlsZURhdGEuYnl0ZUxlbmd0aCA9PT0gMCA/CiAgICAgICAgICAxMDAgOgogICAgICAgICAgTWF0aC5yb3VuZCgocG9zaXRpb24gLyBmaWxlRGF0YS5ieXRlTGVuZ3RoKSAqIDEwMCk7CiAgICAgIHBlcmNlbnQudGV4dENvbnRlbnQgPSBgJHtwZXJjZW50RG9uZX0lIGRvbmVgOwoKICAgIH0gd2hpbGUgKHBvc2l0aW9uIDwgZmlsZURhdGEuYnl0ZUxlbmd0aCk7CiAgfQoKICAvLyBBbGwgZG9uZS4KICB5aWVsZCB7CiAgICByZXNwb25zZTogewogICAgICBhY3Rpb246ICdjb21wbGV0ZScsCiAgICB9CiAgfTsKfQoKc2NvcGUuZ29vZ2xlID0gc2NvcGUuZ29vZ2xlIHx8IHt9OwpzY29wZS5nb29nbGUuY29sYWIgPSBzY29wZS5nb29nbGUuY29sYWIgfHwge307CnNjb3BlLmdvb2dsZS5jb2xhYi5fZmlsZXMgPSB7CiAgX3VwbG9hZEZpbGVzLAogIF91cGxvYWRGaWxlc0NvbnRpbnVlLAp9Owp9KShzZWxmKTsK",
              "ok": true,
              "headers": [
                [
                  "content-type",
                  "application/javascript"
                ]
              ],
              "status": 200,
              "status_text": ""
            }
          },
          "base_uri": "https://localhost:8080/",
          "height": 72
        },
        "id": "JVRUkAPH9UQc",
        "outputId": "cbee5368-45ed-4e7a-9de3-238bb565cea3"
      },
      "source": [
        "uploaded_cover = files.upload()"
      ],
      "execution_count": null,
      "outputs": [
        {
          "output_type": "display_data",
          "data": {
            "text/html": [
              "\n",
              "     <input type=\"file\" id=\"files-ede8eb30-47d7-405b-b6c8-686713075b83\" name=\"files[]\" multiple disabled\n",
              "        style=\"border:none\" />\n",
              "     <output id=\"result-ede8eb30-47d7-405b-b6c8-686713075b83\">\n",
              "      Upload widget is only available when the cell has been executed in the\n",
              "      current browser session. Please rerun this cell to enable.\n",
              "      </output>\n",
              "      <script src=\"/nbextensions/google.colab/files.js\"></script> "
            ],
            "text/plain": [
              "<IPython.core.display.HTML object>"
            ]
          },
          "metadata": {
            "tags": []
          }
        },
        {
          "output_type": "stream",
          "text": [
            "Saving 2732x2732-stil-de-grain-yellow-solid-color-background.jpg to 2732x2732-stil-de-grain-yellow-solid-color-background.jpg\n"
          ],
          "name": "stdout"
        }
      ]
    },
    {
      "cell_type": "code",
      "metadata": {
        "id": "hEnhLKd-xgY8"
      },
      "source": [
        "# cyrillique\n",
        "!apt-get update -qq\n",
        "!apt-get install -y fonts-dejavu-core -qq\n",
        "\n",
        "# amharique\n",
        "!apt-get update\n",
        "!apt-get install fonts-noto\n",
        "\n",
        "\n"
      ],
      "execution_count": null,
      "outputs": []
    },
    {
      "cell_type": "code",
      "metadata": {
        "id": "3ejR4brD45Wh"
      },
      "source": [
        "# arabic\n",
        "!apt-get update\n",
        "!apt-get install lemonada\n"
      ],
      "execution_count": null,
      "outputs": []
    },
    {
      "cell_type": "markdown",
      "metadata": {
        "id": "OoQvIFW_zGec"
      },
      "source": [
        ""
      ]
    },
    {
      "cell_type": "code",
      "metadata": {
        "id": "ghnGFU1sphV_"
      },
      "source": [
        "# Ouverture de la Sheet Centrale (corpus_central_base)\n",
        "sheet_central = 'https://docs.google.com/spreadsheets/d/1L8YB1aXHUJwUE9AE6xyn_xMHalinGR335Q7lntwbu1U'\n",
        "wb_central = gc.open_by_url(sheet_central)\n",
        "#ouverture de l'onglet Corpus dans un DF\n",
        "t_corpus = wb_central.worksheet('med_vac_synthese')\n",
        "data_t_corpus = t_corpus.get_all_values()\n",
        "df_corpus = pd.DataFrame(data_t_corpus[1:], columns=data_t_corpus[0])\n",
        "df = df_corpus[['uid','expression','rus','index']]\n",
        "\n"
      ],
      "execution_count": 3,
      "outputs": []
    },
    {
      "cell_type": "code",
      "metadata": {
        "id": "qzfXcwNtH6cX"
      },
      "source": [
        "def charge_corpus_langue(df_corpus, langue):\n",
        "  #ouverture de l'onglet Corpus dans un DF\n",
        "  df = df_corpus[['uid','expression', langue,'index']]\n",
        "  return df\n"
      ],
      "execution_count": 4,
      "outputs": []
    },
    {
      "cell_type": "code",
      "metadata": {
        "id": "V9VTdnGTIgeA"
      },
      "source": [
        "vk_lang_dict=[\n",
        "{'language':'Arabe','trigramme':'ams'},\n",
        "{'language':'Turc','trigramme':'tur'},\n",
        "{'language':'Russe','trigramme':'rus'},\n",
        "{'language':'Ukrainien','trigramme':'ukr'},\n",
        "{'language':'Roumain','trigramme':'rou'},\n",
        "{'language':'Hongrois','trigramme':'hun'},\n",
        "{'language':'Tigrinya','trigramme':'tig'},\n",
        "{'language':'Albanais','trigramme':'alb'},\n",
        "{'language':'Géorgien','trigramme':'geo'},\n",
        "{'language':'Arménien','trigramme':'arm'},\n",
        "{'language':'Dari','trigramme':'dar'},\n",
        "{'language':'Pashto','trigramme':'pst'},\n",
        "{'language':'Fârsi','trigramme':'prs'},\n",
        "{'language':'Azéri','trigramme':'aze'},\n",
        "{'language':'Espagnol','trigramme':'esp'},\n",
        "{'language':'Amharique','trigramme':'amh'},\n",
        "{'language':'Peul','trigramme':'fma'},\n",
        "]"
      ],
      "execution_count": 6,
      "outputs": []
    },
    {
      "cell_type": "code",
      "metadata": {
        "id": "FUgIUmRlNIvI"
      },
      "source": [
        "vk_color_theme=[\n",
        "{'name':'Abstract vector geometric pattern. Symmetrical layout. Illustration eps 10.','color_1':'128, 191, 162','color_2':'137, 166, 93','color_3':'217, 184, 85','color_4':'217, 170, 85','color_5':'242, 242, 242'},\n",
        "{'name':'color theme_IMG_2040','color_1':'220, 118, 70','color_2':'243, 161, 75','color_3':'147, 173, 164','color_4':'191, 219, 207','color_5':'234, 223, 201'},               \n",
        "]"
      ],
      "execution_count": 28,
      "outputs": []
    },
    {
      "cell_type": "code",
      "metadata": {
        "colab": {
          "base_uri": "https://localhost:8080/"
        },
        "id": "IHsyxES-OHy6",
        "outputId": "6a866e6c-1555-4142-b6b7-61c3a9eb1278"
      },
      "source": [
        "vk_color_theme[1]['name']\n",
        "tuple(map(int, vk_color_theme[1]['color_1'].split(', ')))"
      ],
      "execution_count": 29,
      "outputs": [
        {
          "output_type": "execute_result",
          "data": {
            "text/plain": [
              "(220, 118, 70)"
            ]
          },
          "metadata": {
            "tags": []
          },
          "execution_count": 29
        }
      ]
    },
    {
      "cell_type": "code",
      "metadata": {
        "id": "sg4uWTBsCVLU"
      },
      "source": [
        "class PDF(FPDF):\n",
        "  def __init__(self):\n",
        "    super().__init__()\n",
        "    self.WIDTH = 210\n",
        "    self.HEIGHT = 297\n",
        "    self.format = 'A4'\n",
        "    self.unit = 'in'\n",
        "    self.set_margins(20.0, 10.0, 20.0)\n",
        "    self.color_theme = vk_color_theme[0]\n",
        "    self.color_1 = tuple(map(int, self.color_theme['color_1'].split(', ')))\n",
        "    self.color_2 = tuple(map(int, self.color_theme['color_2'].split(', ')))   \n",
        "    self.color_3 = tuple(map(int, self.color_theme['color_3'].split(', ')))\n",
        "    self.color_4 = tuple(map(int, self.color_theme['color_4'].split(', ')))\n",
        "    self.color_5 = tuple(map(int, self.color_theme['color_5'].split(', ')))    \n",
        "    self.logo_1 = './logo_asamla.jpg'\n",
        "    self.font_1 = ('Montserrat-Medium', '', 11)\n",
        "    self.font_2 = ('Montserrat-Medium', '', 24)  \n",
        "    self.font_cover_1 = ('BebasNeue-Regular', '', 60)  \n",
        "    self.title_1 = 'Corpus Médical'\n",
        "    self.title_2 = 'Vaccination'\n",
        "    self.cover_img_1 = '2732x2732-stil-de-grain-yellow-solid-color-background.jpg'\n",
        "    self.print_footer = False\n",
        "    self.min_height_required_ln = 3.0\n",
        "\n",
        "\n",
        "  def header(self):\n",
        "    # Custom logo and positioning\n",
        "    # Create an `assets` folder and put any wide and short image inside\n",
        "    # Name the image `logo.png`\n",
        "    self.image(self.logo_1, 10, 8, 33)\n",
        "    self.set_text_color (*self.color_1)\n",
        "    self.set_font(*self.font_1)\n",
        "    self.cell(self.WIDTH - 80)\n",
        "    self.cell(50, 1, self.title_1, 0, 0, 'R')\n",
        "    self.ln(5)      \n",
        "    self.cell(self.WIDTH - 80)\n",
        "    self.set_text_color (*self.color_1)\n",
        "    self.cell(50, 1, 'Français-'+self.local_language, 0, 0, 'R')      \n",
        "    new_y = self.get_y()+7\n",
        "    self.line(0, new_y, 210, new_y)\n",
        "\n",
        "  def footer(self):\n",
        "    # Go to 1.5 cm from bottom\n",
        "    self.set_y(-15)\n",
        "    # Select Arial italic 8\n",
        "    self.set_font('Arial', 'I', 8)\n",
        "    # Print current and total page numbers\n",
        "    # Do not print footer on first page \n",
        "    if self.print_footer is True:\n",
        "      self.cell(0, 10, 'Page %s' % self.page_no() + '/{nb}', 0, 0, 'C')        \n",
        "\n",
        "  def print_page(self, images):\n",
        "    # Generates the report\n",
        "    self.add_page()  \n",
        "\n",
        "  def set_langue(self, langue):\n",
        "    self.local_language = langue\n",
        "\n",
        "  def add_fonts(self):\n",
        "    self.add_font('DejaVuSans', '', '/usr/share/fonts/truetype/dejavu/DejaVuSans.ttf', uni=True)\n",
        "    self.add_font('DejaVuSans-Bold', '', '/usr/share/fonts/truetype/dejavu/DejaVuSans.ttf', uni=True)    \n",
        "    self.add_font('NotoSerifEthiopic', '', '/usr/share/fonts/truetype/noto/NotoSerifEthiopic-Regular.ttf', uni=True)\n",
        "    self.add_font('NotoSansArabic', '', '/usr/share/fonts/truetype/noto/NotoSansArabic-Regular.ttf', uni=True) \n",
        "    self.add_font('BebasNeue-Regular','', 'BebasNeue-Regular.ttf', uni=True)   \n",
        "    self.add_font('Slackey-Regular','', 'Slackey-Regular.ttf', uni=True)  \n",
        "    self.add_font('Montserrat-Medium','','Montserrat-Medium.ttf', uni=True)\n",
        "    self.add_font('NotoSerif-Regular','','/usr/share/fonts/truetype/noto/NotoSerif-Regular.ttf', uni=True)    \n",
        "    \n",
        "\n",
        "  def set_effective_page_width(self, value):\n",
        "    self.effective_page_width = value\n",
        "\n",
        "  def set_effective_page_height(self, value):\n",
        "    self.effective_page_height = value\n",
        "\n",
        "  def set_multi_cell_width(self, value):\n",
        "    self.multi_cell_width = value\n",
        "\n",
        "  def set_rowh(self, value):\n",
        "    self.rowh = value\n",
        "\n",
        "  def first_page(self, langue):\n",
        "    self.set_font(*self.font_2)\n",
        "    self.set_text_color (*self.color_1)\n",
        "    # Calculate width of title and position\n",
        "    w = self.get_string_width(self.title_1) + 6\n",
        "    self.set_x((self.WIDTH) / 2)    \n",
        "    self.set_y((self.HEIGHT) /2.5)\n",
        "    self.cell(0,0, self.title_1, 0, 0, 'C',0)\n",
        "    self.ln(10)\n",
        "    self.set_font(*self.font_1)\n",
        "    self.cell(0,0, 'Français-'+self.local_language, 0, 0, 'C')\n",
        "    self.add_page()\n",
        "    self.set_text_color (0,0,0)\n",
        "\n",
        "  def cover_1(self):\n",
        "    self.image(self.cover_img_1,0,0,self.WIDTH,self.HEIGHT)\n",
        "    #self.set_fill_color(*self.color_3)\n",
        "    #self.rect(0, 0, self.WIDTH, self.HEIGHT, style = 'F')    \n",
        "\n",
        "    self.set_text_color(*self.color_1)\n",
        "    self.set_xy(self.l_margin, 90)\n",
        "    self.set_font(*self.font_cover_1)\n",
        "    self.cell(0,0, self.title_1, 0, 0, 'L')\n",
        "    self.ln(18)  \n",
        "\n",
        "    self.set_font(*self.font_cover_1)\n",
        "    self.set_text_color (*self.color_5)\n",
        "    self.cell(0,0, self.title_2, 0, 0, 'L')\n",
        "    self.ln(28)\n",
        "\n",
        "    self.midpage = self.get_y()-14\n",
        "    self.set_fill_color(*self.color_1)\n",
        "    self.rect(0, self.midpage, self.WIDTH, 30, style = 'F')\n",
        "\n",
        "    self.set_font(*self.font_2)\n",
        "    self.set_text_color (*self.color_5) \n",
        "    title = 'Français-'+self.local_language\n",
        "    self.cell(0,0, title.upper(), 0, 0, 'L')\n",
        "\n",
        "    self.image(self.logo_1,self.l_margin,self.HEIGHT-self.l_margin,30)\n",
        "\n",
        "    self.add_page()  \n",
        "\n",
        "  def cover_2(self):\n",
        "    self.set_fill_color(*self.color_1)\n",
        "    self.rect(0, 0, self.WIDTH, self.HEIGHT, style = 'F')\n",
        "    self.add_page()  \n",
        "\n",
        "  def cover_3(self):\n",
        "    self.set_fill_color(*self.color_1)\n",
        "    self.rect(0, 0, self.WIDTH, self.HEIGHT, style = 'F')\n",
        "    self.add_page()  \n",
        "\n",
        "  def cover_4(self):\n",
        "    self.image(self.cover_img_1,0,0,self.WIDTH,self.HEIGHT)\n",
        "    self.set_fill_color(*self.color_1)\n",
        "    self.rect(0, self.midpage, self.WIDTH, 30, style = 'F')"
      ],
      "execution_count": 46,
      "outputs": []
    },
    {
      "cell_type": "code",
      "metadata": {
        "id": "CJfnGI8UmNTw"
      },
      "source": [
        "def print_expression(langue, df, pdf, ind, chosen_font_expr, chosen_font_trad):\n",
        "  # impression d'une ligne expression/traduction dans la bonne fonte\n",
        "  # on quitte si la traduction est absente\n",
        "  if len(df[langue][ind].strip()) == 0:\n",
        "    return\n",
        "    \n",
        "  ln = 6.5\n",
        "  ybefore = pdf.get_y()\n",
        "  pdf.set_font(chosen_font_expr, '', 10.0)\n",
        "  pdf.set_text_color (0,0,0)\n",
        "  pdf.multi_cell(pdf.multi_cell_width, pdf.rowh, df['expression'][ind])\n",
        "  pdf.set_xy(pdf.effective_page_width/2 + pdf.l_margin, ybefore)\n",
        "  #---- cas de l'alphabet arabe\n",
        "  pdf.set_font(chosen_font_trad, '', 10.0)\n",
        "  if langue=='ams':\n",
        "    arabic_string = arabic_reshaper.reshape(df[langue][ind])\n",
        "    arabic_string = arabic_string[::-1]\n",
        "    w = pdf.get_string_width(arabic_string) + 6\n",
        "    pdf.multi_cell(pdf.multi_cell_width,  pdf.rowh, arabic_string, 0, 'R')\n",
        "    #pdf.cell(w, 9, arabic_string, 0, 1, 'L', 0)\n",
        "  else:\n",
        "    pdf.multi_cell(pdf.multi_cell_width,  pdf.rowh, df[langue][ind])\n",
        "\n",
        "  pdf.ln(ln)\n"
      ],
      "execution_count": 47,
      "outputs": []
    },
    {
      "cell_type": "code",
      "metadata": {
        "id": "MjGWKO1aMTLd"
      },
      "source": [
        "def create_pdf_instance(item, df):\n",
        "  pdf=PDF()\n",
        "  pdf.alias_nb_pages()\n",
        "  pdf.set_langue (item['language'])\n",
        "  pdf.add_fonts()\n",
        "  pdf.format = 'A4'\n",
        "  pdf.unit = 'in'\n",
        "  pdf.set_margins(20.0, 10.0, 20.0)\n",
        "  A4_height_inches = 11.6929\n",
        "  effective_page_width = pdf.w - 2*pdf.l_margin\n",
        "  effective_page_height = pdf.h - 2*pdf.b_margin\n",
        "  multi_cell_width = (effective_page_width/2)-5\n",
        "  pdf.set_effective_page_width(effective_page_width)\n",
        "  pdf.set_effective_page_height(effective_page_height)\n",
        "  pdf.set_multi_cell_width(multi_cell_width)\n",
        "\n",
        "  rowh = 5.5\n",
        "  pdf.set_rowh(rowh)\n",
        "  ln = 6.5\n",
        "\n",
        "  chosen_font_expr = 'NotoSerif-Regular'\n",
        "  # cut here -------------------------------------------------------------\n",
        "  if item['trigramme']=='ams':\n",
        "    # font arabe\n",
        "    print(\"Font ams\")\n",
        "    chosen_font_trad = 'NotoSansArabic'\n",
        "  elif item['trigramme']=='tig':\n",
        "    # font amharique\n",
        "    print(\"Font tig\")\n",
        "    chosen_font_trad='NotoSerifEthiopic'\n",
        "  elif item['trigramme']=='arm':\n",
        "    # font arménien\n",
        "    print(\"Font arm\")   \n",
        "    chosen_font_trad = 'DejaVuSans' \n",
        "  else:\n",
        "    # font standard\n",
        "    chosen_font_trad = 'NotoSerif-Regular'\n",
        "    # amharique/tigrinya\n",
        "\n",
        "\n",
        "  # Add new page. Without this you cannot create the document.\n",
        "  pdf.add_page()\n",
        "  # couverture\n",
        "  pdf.cover_1()\n",
        "  pdf.cover_2()\n",
        "  pdf.print_footer = True\n",
        "  # Remember to always put one of these at least once.\n",
        "  pdf.set_font('Times','',10.0) \n",
        "\n",
        "\n",
        "  pdf.first_page(item['language'])\n",
        "\n",
        "  pdf.ln(ln)\n",
        "  idx = '' # index alpha (start)\n",
        "  # pour chaque élement expression/traduction\n",
        "  for ind in df.index:\n",
        "    ybefore = pdf.get_y()\n",
        "    if df['index'][ind] != idx:\n",
        "      # changement de lettre index\n",
        "      pdf.ln(ln*1.5)\n",
        "\n",
        "      # vérification place en bas suffisante\n",
        "      space_left = effective_page_height-pdf.get_y()\n",
        "      # changement de page si place restante insuffisante\n",
        "      if space_left < pdf.min_height_required_ln:\n",
        "        pdf.add_page()\n",
        "        pdf.ln(ln*2)    \n",
        "\n",
        "      ybefore = pdf.get_y()\n",
        "      # changement lettre index\n",
        "      pdf.set_font(*pdf.font_2)\n",
        "      pdf.set_text_color (*pdf.color_1)\n",
        "      pdf.multi_cell(multi_cell_width,  rowh, df['index'][ind])\n",
        "      pdf.set_xy(effective_page_width/2 + pdf.l_margin, ybefore)\n",
        "      pdf.multi_cell(multi_cell_width,  rowh, \" \")\n",
        "      idx = df['index'][ind]\n",
        "      pdf.ln(ln)\n",
        "\n",
        "    # expression / traduction\n",
        "    space_left = effective_page_height-pdf.get_y()\n",
        "    #if item['trigramme']=='hun':\n",
        "    #  print (df['expression'][ind], str(space_left))\n",
        "    # changement de page si place restante insuffisante\n",
        "    if space_left < 1:\n",
        "      pdf.add_page()\n",
        "      pdf.ln(ln*2)\n",
        "\n",
        "    print_expression(item['trigramme'], df, pdf, ind, chosen_font_expr, chosen_font_trad)\n",
        "    #print (df['expression'][ind], str(space_left))\n",
        "\n",
        "  pdf.ln(ln)  \n",
        "  pdf.add_page()\n",
        "  pdf.print_footer = False\n",
        "  pdf.cover_3()\n",
        "  pdf.cover_4()\n",
        "  # cut here -------------------------------------------------------------\n",
        "\n",
        "  print (\"écriture de \" + item['trigramme'] + '.pdf')\n",
        "  pdf.output(item['trigramme'] + '.pdf', 'F')"
      ],
      "execution_count": 48,
      "outputs": []
    },
    {
      "cell_type": "code",
      "metadata": {
        "id": "xRN7a9CKsfuD"
      },
      "source": [
        "df_corpus_langue=[] \n",
        "#ouverture de chaque onglet Corpus de travail dans un DF\n",
        "for index, item in enumerate(vk_lang_dict):\n",
        "  df_corpus_langue.append (charge_corpus_langue(df_corpus, item['trigramme']))\n",
        "  create_pdf_instance(item, df_corpus_langue[index])\n"
      ],
      "execution_count": null,
      "outputs": []
    },
    {
      "cell_type": "code",
      "metadata": {
        "colab": {
          "base_uri": "https://localhost:8080/"
        },
        "id": "TxzI5aaG2PSz",
        "outputId": "18ab38fa-4234-4321-99b4-42c7dad8f050"
      },
      "source": [
        "ls -l /usr/share/fonts/truetype/dejavu/"
      ],
      "execution_count": null,
      "outputs": [
        {
          "output_type": "stream",
          "text": [
            "total 2956\n",
            "-rw-r--r-- 1 root root 705684 Jul 30  2016 DejaVuSans-Bold.ttf\n",
            "-rw-r--r-- 1 root root    549 Jun 18 14:47 DejaVuSans.cw127.pkl\n",
            "-rw-r--r-- 1 root root 331992 Jul 30  2016 DejaVuSansMono-Bold.ttf\n",
            "-rw-r--r-- 1 root root 340712 Jul 30  2016 DejaVuSansMono.ttf\n",
            "-rw-r--r-- 1 root root 136927 Jun 18 14:47 DejaVuSans.pkl\n",
            "-rw-r--r-- 1 root root 757076 Jul 30  2016 DejaVuSans.ttf\n",
            "-rw-r--r-- 1 root root 356088 Jul 30  2016 DejaVuSerif-Bold.ttf\n",
            "-rw-r--r-- 1 root root 380132 Jul 30  2016 DejaVuSerif.ttf\n"
          ],
          "name": "stdout"
        }
      ]
    },
    {
      "cell_type": "code",
      "metadata": {
        "id": "LfTASFnO0dyI"
      },
      "source": [
        ""
      ],
      "execution_count": null,
      "outputs": []
    }
  ]
}