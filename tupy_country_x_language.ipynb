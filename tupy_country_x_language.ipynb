{
  "nbformat": 4,
  "nbformat_minor": 0,
  "metadata": {
    "colab": {
      "name": "tupy-country_x_language.ipynb",
      "provenance": [],
      "collapsed_sections": [],
      "authorship_tag": "ABX9TyOz175d1JzH72If64BJYU+u",
      "include_colab_link": true
    },
    "kernelspec": {
      "name": "python3",
      "display_name": "Python 3"
    }
  },
  "cells": [
    {
      "cell_type": "markdown",
      "metadata": {
        "id": "view-in-github",
        "colab_type": "text"
      },
      "source": [
        "<a href=\"https://colab.research.google.com/github/gretiere545/tradunion/blob/master/tupy_country_x_language.ipynb\" target=\"_parent\"><img src=\"https://colab.research.google.com/assets/colab-badge.svg\" alt=\"Open In Colab\"/></a>"
      ]
    },
    {
      "cell_type": "markdown",
      "metadata": {
        "id": "7hYnuf3Jt0Yo",
        "colab_type": "text"
      },
      "source": [
        "# Table des relations Pays x Langues"
      ]
    },
    {
      "cell_type": "code",
      "metadata": {
        "id": "4uK1_4dH3jI_",
        "colab_type": "code",
        "colab": {}
      },
      "source": [
        "import pandas as pd\n",
        "import numpy as np"
      ],
      "execution_count": 1,
      "outputs": []
    },
    {
      "cell_type": "code",
      "metadata": {
        "id": "5qnLrQXQ4v7d",
        "colab_type": "code",
        "colab": {}
      },
      "source": [
        "pd.set_option(\"display.width\",1000)"
      ],
      "execution_count": 2,
      "outputs": []
    },
    {
      "cell_type": "code",
      "metadata": {
        "id": "KStPSlzO3tco",
        "colab_type": "code",
        "colab": {
          "base_uri": "https://localhost:8080/",
          "height": 122
        },
        "outputId": "0bf639d3-629d-45c1-f3f5-10701ffef037"
      },
      "source": [
        "# Ce bout de code pour pouvoir downloader des fichiers sur le drive\n",
        "from google.colab import drive\n",
        "drive.mount('/content/drive')"
      ],
      "execution_count": null,
      "outputs": [
        {
          "output_type": "stream",
          "text": [
            "Go to this URL in a browser: https://accounts.google.com/o/oauth2/auth?client_id=947318989803-6bn6qk8qdgf4n4g3pfee6491hc0brc4i.apps.googleusercontent.com&redirect_uri=urn%3aietf%3awg%3aoauth%3a2.0%3aoob&scope=email%20https%3a%2f%2fwww.googleapis.com%2fauth%2fdocs.test%20https%3a%2f%2fwww.googleapis.com%2fauth%2fdrive%20https%3a%2f%2fwww.googleapis.com%2fauth%2fdrive.photos.readonly%20https%3a%2f%2fwww.googleapis.com%2fauth%2fpeopleapi.readonly&response_type=code\n",
            "\n",
            "Enter your authorization code:\n",
            "··········\n",
            "Mounted at /content/drive\n"
          ],
          "name": "stdout"
        }
      ]
    },
    {
      "cell_type": "code",
      "metadata": {
        "id": "0Gal4iRw4G7_",
        "colab_type": "code",
        "colab": {}
      },
      "source": [
        "# !ls \"/content/drive/My Drive/Trad-Union/Cours/Géographie des langues\""
      ],
      "execution_count": null,
      "outputs": []
    },
    {
      "cell_type": "markdown",
      "metadata": {
        "id": "zFxAnYDGztH5",
        "colab_type": "text"
      },
      "source": [
        "## Intégration des documents google drive dans pandas"
      ]
    },
    {
      "cell_type": "code",
      "metadata": {
        "id": "BIZh_kpvxlEY",
        "colab_type": "code",
        "colab": {}
      },
      "source": [
        "from google.colab import auth\n",
        "auth.authenticate_user()\n",
        "import gspread\n",
        "from gspread_dataframe import get_as_dataframe, set_with_dataframe\n",
        "from oauth2client.client import GoogleCredentials\n",
        "gc = gspread.authorize(GoogleCredentials.get_application_default())"
      ],
      "execution_count": 47,
      "outputs": []
    },
    {
      "cell_type": "markdown",
      "metadata": {
        "id": "0w4qq8Lm0DLH",
        "colab_type": "text"
      },
      "source": [
        "### importation du workbook **tu-wb-1** et chargement des tables\n",
        "\n",
        "*   t_ctry\n",
        "*   t_lang_x_ctry\n",
        "\n",
        "dans des dataframes"
      ]
    },
    {
      "cell_type": "code",
      "metadata": {
        "id": "9LK_pLPPx_OY",
        "colab_type": "code",
        "colab": {}
      },
      "source": [
        "wb = gc.open_by_url('https://docs.google.com/spreadsheets/d/1bMnE2PYl6niMHV7_bXJqTR9GJRLyitW1ANjFvemf8Q4')\n",
        "t_ctry = wb.worksheet('t_ctry')\n",
        "data_t_ctry = t_ctry.get_all_values()\n",
        "df_ctry = pd.DataFrame(data_t_ctry[1:], columns=data_t_ctry[0])"
      ],
      "execution_count": 48,
      "outputs": []
    },
    {
      "cell_type": "code",
      "metadata": {
        "id": "6ToZR6IBs_AQ",
        "colab_type": "code",
        "colab": {}
      },
      "source": [
        "t_lang_x_ctry = wb.worksheet('t_lang_X_ctry')\n",
        "data_t_lang_x_ctry = t_lang_x_ctry.get_all_values()\n",
        "df_lang_x_ctry = pd.DataFrame(data_t_lang_x_ctry[1:], columns=data_t_lang_x_ctry[0])"
      ],
      "execution_count": 49,
      "outputs": []
    },
    {
      "cell_type": "markdown",
      "metadata": {
        "id": "lRSKJkA45Isb",
        "colab_type": "text"
      },
      "source": [
        "#### suppression des valeurs nulles et tri par *pays*"
      ]
    },
    {
      "cell_type": "code",
      "metadata": {
        "id": "buREzECIuBoD",
        "colab_type": "code",
        "colab": {}
      },
      "source": [
        "df_lang_x_ctry = df_lang_x_ctry.dropna()\n",
        "df_lang_x_ctry.sort_values(by=[\"alpha-2_code\",\"wals_code\"], ascending=True, inplace=True)\n"
      ],
      "execution_count": 50,
      "outputs": []
    },
    {
      "cell_type": "markdown",
      "metadata": {
        "id": "wrKA_NjA5Xt_",
        "colab_type": "text"
      },
      "source": [
        "#### redéfinition de la clé par *pays-langue*"
      ]
    },
    {
      "cell_type": "code",
      "metadata": {
        "id": "OFLwe0ymyOQJ",
        "colab_type": "code",
        "colab": {}
      },
      "source": [
        "df_lang_x_ctry[\"key_id\"]=df_lang_x_ctry.apply(lambda x: x[\"alpha-2_code\"]+\"-\"+x[\"wals_code\"], axis=1)\n"
      ],
      "execution_count": 51,
      "outputs": []
    },
    {
      "cell_type": "markdown",
      "metadata": {
        "id": "W00y12fu5lFA",
        "colab_type": "text"
      },
      "source": [
        "#### remplacement des cellules vides par NAN puis supression des lignes concernées\n",
        "\n",
        "\n"
      ]
    },
    {
      "cell_type": "code",
      "metadata": {
        "id": "pRKoweGn2FKg",
        "colab_type": "code",
        "colab": {}
      },
      "source": [
        "df_lang_x_ctry[\"alpha-2_code\"]=df_lang_x_ctry[\"alpha-2_code\"].apply(lambda x: x.strip()).replace('', np.nan)\n",
        "df_lang_x_ctry = df_lang_x_ctry.loc[~df_lang_x_ctry[\"alpha-2_code\"].isnull()]"
      ],
      "execution_count": 52,
      "outputs": []
    },
    {
      "cell_type": "code",
      "metadata": {
        "id": "s6KGxu9u6OTv",
        "colab_type": "code",
        "colab": {}
      },
      "source": [
        "df_lang_x_ctry = df_lang_x_ctry[[\"key_id\",\t\"alpha-2_code\",\"wals_code\",\t\"rank\",\t\"speakers\",\t\"comment\"]]"
      ],
      "execution_count": 55,
      "outputs": []
    },
    {
      "cell_type": "code",
      "metadata": {
        "id": "RGoJK6-k189L",
        "colab_type": "code",
        "colab": {}
      },
      "source": [
        "export_sheet = wb.worksheet('t_temp')\n",
        "set_with_dataframe(export_sheet, df_lang_x_ctry)\n"
      ],
      "execution_count": 57,
      "outputs": []
    },
    {
      "cell_type": "code",
      "metadata": {
        "id": "rnVKMqnp_NJB",
        "colab_type": "code",
        "colab": {}
      },
      "source": [
        ""
      ],
      "execution_count": null,
      "outputs": []
    }
  ]
}