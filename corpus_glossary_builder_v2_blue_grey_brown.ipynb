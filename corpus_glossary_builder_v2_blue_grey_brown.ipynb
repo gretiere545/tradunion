{
  "nbformat": 4,
  "nbformat_minor": 0,
  "metadata": {
    "colab": {
      "name": "corpus_glossary_builder_v2-blue_grey_brown.ipynb",
      "provenance": [],
      "collapsed_sections": [],
      "authorship_tag": "ABX9TyPf3id5IWG5QWgmHgoDS3g0",
      "include_colab_link": true
    },
    "kernelspec": {
      "name": "python3",
      "display_name": "Python 3"
    },
    "language_info": {
      "name": "python"
    }
  },
  "cells": [
    {
      "cell_type": "markdown",
      "metadata": {
        "id": "view-in-github",
        "colab_type": "text"
      },
      "source": [
        "<a href=\"https://colab.research.google.com/github/gretiere545/tradunion/blob/master/corpus_glossary_builder_v2_blue_grey_brown.ipynb\" target=\"_parent\"><img src=\"https://colab.research.google.com/assets/colab-badge.svg\" alt=\"Open In Colab\"/></a>"
      ]
    },
    {
      "cell_type": "markdown",
      "metadata": {
        "id": "FB29HktrvvBJ"
      },
      "source": [
        "# Création d'un glossaire alphabétique des Corpus ASAMLA"
      ]
    },
    {
      "cell_type": "markdown",
      "metadata": {
        "id": "7P--WKJPv0Px"
      },
      "source": [
        "## Chargement des Corpus"
      ]
    },
    {
      "cell_type": "code",
      "metadata": {
        "colab": {
          "base_uri": "https://localhost:8080/"
        },
        "id": "_5CoZ3ORv3Bh",
        "outputId": "0ff6ed1e-f54e-4d4c-acaa-b239fb07c148"
      },
      "source": [
        "#!/usr/bin/env python\n",
        "# -*- coding: utf8 -*-\n",
        "\n",
        "!pip install fpdf\n",
        "!pip install arabic_reshaper\n",
        "# https://pyfpdfbook.wordpress.com/2015/03/22/putting-two-adjacent-multicell-blocks/\n",
        "import pandas as pd\n",
        "import numpy as np\n",
        "from fpdf import FPDF\n",
        "import arabic_reshaper\n",
        "pd.set_option(\"display.width\",1000)\n",
        "# Ce bout de code pour pouvoir downloader des fichiers sur le drive\n",
        "from google.colab import drive\n",
        "drive.mount('/content/drive')\n",
        "from google.colab import files\n",
        "\n",
        "# Ce bout de code pour pouvoir downloader des google sheets dans des dataframes\n",
        "from google.colab import auth\n",
        "auth.authenticate_user()\n",
        "import gspread\n",
        "from gspread_dataframe import get_as_dataframe, set_with_dataframe\n",
        "from oauth2client.client import GoogleCredentials\n",
        "gc = gspread.authorize(GoogleCredentials.get_application_default())\n",
        "!export PYTHONIOENCODING=utf8\n",
        "%cd /content/drive/MyDrive/Trad-Union/Corpus/ASAMLA\n"
      ],
      "execution_count": 1,
      "outputs": [
        {
          "output_type": "stream",
          "text": [
            "Collecting fpdf\n",
            "  Downloading https://files.pythonhosted.org/packages/37/c6/608a9e6c172bf9124aa687ec8b9f0e8e5d697d59a5f4fad0e2d5ec2a7556/fpdf-1.7.2.tar.gz\n",
            "Building wheels for collected packages: fpdf\n",
            "  Building wheel for fpdf (setup.py) ... \u001b[?25l\u001b[?25hdone\n",
            "  Created wheel for fpdf: filename=fpdf-1.7.2-py2.py3-none-any.whl size=40722 sha256=9a70e276c78f02e201172b6d1baca7d663c090fb565c1b1472e0157304d4b9c6\n",
            "  Stored in directory: /root/.cache/pip/wheels/9a/e9/77/4554ff5c99bc3f487c8d69620d8c41d99d54e9c54ab20ef4c9\n",
            "Successfully built fpdf\n",
            "Installing collected packages: fpdf\n",
            "Successfully installed fpdf-1.7.2\n",
            "Collecting arabic_reshaper\n",
            "  Downloading https://files.pythonhosted.org/packages/47/27/7b9b824f5342d8ee180027333f2e15842ea36f5bc2d3d24a4e6bb31fb596/arabic_reshaper-2.1.3-py3-none-any.whl\n",
            "Requirement already satisfied: setuptools in /usr/local/lib/python3.7/dist-packages (from arabic_reshaper) (57.0.0)\n",
            "Requirement already satisfied: future in /usr/local/lib/python3.7/dist-packages (from arabic_reshaper) (0.16.0)\n",
            "Installing collected packages: arabic-reshaper\n",
            "Successfully installed arabic-reshaper-2.1.3\n",
            "Mounted at /content/drive\n",
            "/content/drive/MyDrive/Trad-Union/Corpus/ASAMLA\n"
          ],
          "name": "stdout"
        }
      ]
    },
    {
      "cell_type": "code",
      "metadata": {
        "colab": {
          "resources": {
            "http://localhost:8080/nbextensions/google.colab/files.js": {
              "data": "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",
              "ok": true,
              "headers": [
                [
                  "content-type",
                  "application/javascript"
                ]
              ],
              "status": 200,
              "status_text": ""
            }
          },
          "base_uri": "https://localhost:8080/",
          "height": 72
        },
        "id": "JVRUkAPH9UQc",
        "outputId": "0873efde-d48c-450a-a457-85d6b74b7ddc"
      },
      "source": [
        "uploaded_cover = files.upload()"
      ],
      "execution_count": 21,
      "outputs": [
        {
          "output_type": "display_data",
          "data": {
            "text/html": [
              "\n",
              "     <input type=\"file\" id=\"files-1e5096a0-0189-4d12-9a3d-d4c5ac9d4c73\" name=\"files[]\" multiple disabled\n",
              "        style=\"border:none\" />\n",
              "     <output id=\"result-1e5096a0-0189-4d12-9a3d-d4c5ac9d4c73\">\n",
              "      Upload widget is only available when the cell has been executed in the\n",
              "      current browser session. Please rerun this cell to enable.\n",
              "      </output>\n",
              "      <script src=\"/nbextensions/google.colab/files.js\"></script> "
            ],
            "text/plain": [
              "<IPython.core.display.HTML object>"
            ]
          },
          "metadata": {
            "tags": []
          }
        },
        {
          "output_type": "stream",
          "text": [
            "Saving marcel-strauss-3Zlg1lgCu4E-unsplash.jpg to marcel-strauss-3Zlg1lgCu4E-unsplash.jpg\n"
          ],
          "name": "stdout"
        }
      ]
    },
    {
      "cell_type": "code",
      "metadata": {
        "colab": {
          "base_uri": "https://localhost:8080/"
        },
        "id": "hEnhLKd-xgY8",
        "outputId": "82d1784f-3cd6-4608-e4f9-7e146652bd46"
      },
      "source": [
        "# cyrillique\n",
        "!apt-get update -qq\n",
        "!apt-get install -y fonts-dejavu-core -qq\n",
        "\n",
        "# amharique\n",
        "!apt-get update\n",
        "!apt-get install fonts-noto\n",
        "\n",
        "\n"
      ],
      "execution_count": 3,
      "outputs": [
        {
          "output_type": "stream",
          "text": [
            "Selecting previously unselected package fonts-dejavu-core.\n",
            "(Reading database ... 160772 files and directories currently installed.)\n",
            "Preparing to unpack .../fonts-dejavu-core_2.37-1_all.deb ...\n",
            "Unpacking fonts-dejavu-core (2.37-1) ...\n",
            "Setting up fonts-dejavu-core (2.37-1) ...\n",
            "Processing triggers for fontconfig (2.12.6-0ubuntu2) ...\n",
            "Hit:1 http://security.ubuntu.com/ubuntu bionic-security InRelease\n",
            "Ign:2 https://developer.download.nvidia.com/compute/cuda/repos/ubuntu1804/x86_64  InRelease\n",
            "Hit:3 https://cloud.r-project.org/bin/linux/ubuntu bionic-cran40/ InRelease\n",
            "Ign:4 https://developer.download.nvidia.com/compute/machine-learning/repos/ubuntu1804/x86_64  InRelease\n",
            "Hit:5 http://archive.ubuntu.com/ubuntu bionic InRelease\n",
            "Hit:6 http://ppa.launchpad.net/c2d4u.team/c2d4u4.0+/ubuntu bionic InRelease\n",
            "Hit:7 https://developer.download.nvidia.com/compute/cuda/repos/ubuntu1804/x86_64  Release\n",
            "Hit:8 https://developer.download.nvidia.com/compute/machine-learning/repos/ubuntu1804/x86_64  Release\n",
            "Hit:9 http://archive.ubuntu.com/ubuntu bionic-updates InRelease\n",
            "Hit:10 http://archive.ubuntu.com/ubuntu bionic-backports InRelease\n",
            "Hit:11 http://ppa.launchpad.net/cran/libgit2/ubuntu bionic InRelease\n",
            "Hit:12 http://ppa.launchpad.net/deadsnakes/ppa/ubuntu bionic InRelease\n",
            "Hit:13 http://ppa.launchpad.net/graphics-drivers/ppa/ubuntu bionic InRelease\n",
            "Reading package lists... Done\n",
            "Reading package lists... Done\n",
            "Building dependency tree       \n",
            "Reading state information... Done\n",
            "The following additional packages will be installed:\n",
            "  fonts-noto-cjk fonts-noto-hinted fonts-noto-mono fonts-noto-unhinted\n",
            "Suggested packages:\n",
            "  fonts-noto-cjk-extra\n",
            "The following NEW packages will be installed:\n",
            "  fonts-noto fonts-noto-cjk fonts-noto-hinted fonts-noto-mono\n",
            "  fonts-noto-unhinted\n",
            "0 upgraded, 5 newly installed, 0 to remove and 45 not upgraded.\n",
            "Need to get 64.0 MB of archives.\n",
            "After this operation, 123 MB of additional disk space will be used.\n",
            "Get:1 http://archive.ubuntu.com/ubuntu bionic/universe amd64 fonts-noto-hinted all 20171026-2 [6,653 kB]\n",
            "Get:2 http://archive.ubuntu.com/ubuntu bionic/universe amd64 fonts-noto all 20171026-2 [4,136 B]\n",
            "Get:3 http://archive.ubuntu.com/ubuntu bionic-updates/main amd64 fonts-noto-cjk all 1:20190409+repack1-0ubuntu0.18.04 [55.7 MB]\n",
            "Get:4 http://archive.ubuntu.com/ubuntu bionic/main amd64 fonts-noto-mono all 20171026-2 [75.5 kB]\n",
            "Get:5 http://archive.ubuntu.com/ubuntu bionic/universe amd64 fonts-noto-unhinted all 20171026-2 [1,576 kB]\n",
            "Fetched 64.0 MB in 3s (20.7 MB/s)\n",
            "Selecting previously unselected package fonts-noto-hinted.\n",
            "(Reading database ... 160812 files and directories currently installed.)\n",
            "Preparing to unpack .../fonts-noto-hinted_20171026-2_all.deb ...\n",
            "Unpacking fonts-noto-hinted (20171026-2) ...\n",
            "Selecting previously unselected package fonts-noto.\n",
            "Preparing to unpack .../fonts-noto_20171026-2_all.deb ...\n",
            "Unpacking fonts-noto (20171026-2) ...\n",
            "Selecting previously unselected package fonts-noto-cjk.\n",
            "Preparing to unpack .../fonts-noto-cjk_1%3a20190409+repack1-0ubuntu0.18.04_all.deb ...\n",
            "Unpacking fonts-noto-cjk (1:20190409+repack1-0ubuntu0.18.04) ...\n",
            "Selecting previously unselected package fonts-noto-mono.\n",
            "Preparing to unpack .../fonts-noto-mono_20171026-2_all.deb ...\n",
            "Unpacking fonts-noto-mono (20171026-2) ...\n",
            "Selecting previously unselected package fonts-noto-unhinted.\n",
            "Preparing to unpack .../fonts-noto-unhinted_20171026-2_all.deb ...\n",
            "Unpacking fonts-noto-unhinted (20171026-2) ...\n",
            "Setting up fonts-noto-unhinted (20171026-2) ...\n",
            "Setting up fonts-noto-cjk (1:20190409+repack1-0ubuntu0.18.04) ...\n",
            "Setting up fonts-noto-mono (20171026-2) ...\n",
            "Setting up fonts-noto-hinted (20171026-2) ...\n",
            "Setting up fonts-noto (20171026-2) ...\n",
            "Processing triggers for fontconfig (2.12.6-0ubuntu2) ...\n"
          ],
          "name": "stdout"
        }
      ]
    },
    {
      "cell_type": "code",
      "metadata": {
        "colab": {
          "base_uri": "https://localhost:8080/"
        },
        "id": "3ejR4brD45Wh",
        "outputId": "84b9f41c-84f0-40ae-ee65-6cdbf80ba3e7"
      },
      "source": [
        "# arabic\n",
        "!apt-get update\n",
        "!apt-get install lemonada\n"
      ],
      "execution_count": null,
      "outputs": [
        {
          "output_type": "stream",
          "text": [
            "\r0% [Working]\r            \rHit:1 http://ppa.launchpad.net/c2d4u.team/c2d4u4.0+/ubuntu bionic InRelease\n",
            "\r0% [Connecting to archive.ubuntu.com (91.189.88.142)] [Connecting to security.u\r0% [1 InRelease gpgv 15.9 kB] [Waiting for headers] [Connecting to security.ubu\r                                                                               \rHit:2 http://archive.ubuntu.com/ubuntu bionic InRelease\n",
            "\r0% [1 InRelease gpgv 15.9 kB] [Waiting for headers] [Connecting to security.ubu\r                                                                               \rHit:3 http://ppa.launchpad.net/cran/libgit2/ubuntu bionic InRelease\n",
            "\r0% [1 InRelease gpgv 15.9 kB] [Waiting for headers] [Connecting to security.ubu\r                                                                               \rHit:4 https://cloud.r-project.org/bin/linux/ubuntu bionic-cran40/ InRelease\n",
            "\r0% [1 InRelease gpgv 15.9 kB] [Waiting for headers] [Connecting to security.ubu\r                                                                               \rHit:5 http://archive.ubuntu.com/ubuntu bionic-updates InRelease\n",
            "\r0% [1 InRelease gpgv 15.9 kB] [Waiting for headers] [Connecting to security.ubu\r                                                                               \rHit:6 http://archive.ubuntu.com/ubuntu bionic-backports InRelease\n",
            "\r0% [1 InRelease gpgv 15.9 kB] [Connecting to security.ubuntu.com (91.189.91.39)\r                                                                               \rHit:7 http://ppa.launchpad.net/deadsnakes/ppa/ubuntu bionic InRelease\n",
            "\r0% [1 InRelease gpgv 15.9 kB] [Connecting to security.ubuntu.com (91.189.91.39)\r                                                                               \rHit:8 http://ppa.launchpad.net/graphics-drivers/ppa/ubuntu bionic InRelease\n",
            "\r                                                                               \r0% [1 InRelease gpgv 15.9 kB] [Waiting for headers] [Waiting for headers]\r                                                                         \rHit:9 http://security.ubuntu.com/ubuntu bionic-security InRelease\n",
            "Ign:10 https://developer.download.nvidia.com/compute/cuda/repos/ubuntu1804/x86_64  InRelease\n",
            "Ign:11 https://developer.download.nvidia.com/compute/machine-learning/repos/ubuntu1804/x86_64  InRelease\n",
            "Hit:12 https://developer.download.nvidia.com/compute/cuda/repos/ubuntu1804/x86_64  Release\n",
            "Hit:13 https://developer.download.nvidia.com/compute/machine-learning/repos/ubuntu1804/x86_64  Release\n",
            "Reading package lists... Done\n",
            "Reading package lists... Done\n",
            "Building dependency tree       \n",
            "Reading state information... Done\n",
            "E: Unable to locate package lemonada\n"
          ],
          "name": "stdout"
        }
      ]
    },
    {
      "cell_type": "markdown",
      "metadata": {
        "id": "OoQvIFW_zGec"
      },
      "source": [
        ""
      ]
    },
    {
      "cell_type": "code",
      "metadata": {
        "id": "ghnGFU1sphV_"
      },
      "source": [
        "# Ouverture de la Sheet Centrale (corpus_central_base)\n",
        "sheet_central = 'https://docs.google.com/spreadsheets/d/1L8YB1aXHUJwUE9AE6xyn_xMHalinGR335Q7lntwbu1U'\n",
        "wb_central = gc.open_by_url(sheet_central)\n",
        "#ouverture de l'onglet Corpus dans un DF\n",
        "t_corpus = wb_central.worksheet('med_vac_synthese')\n",
        "data_t_corpus = t_corpus.get_all_values()\n",
        "df_corpus = pd.DataFrame(data_t_corpus[1:], columns=data_t_corpus[0])\n",
        "df = df_corpus[['uid','expression','rus','index']]\n",
        "\n"
      ],
      "execution_count": 4,
      "outputs": []
    },
    {
      "cell_type": "code",
      "metadata": {
        "id": "qzfXcwNtH6cX"
      },
      "source": [
        "def charge_corpus_langue(df_corpus, langue):\n",
        "  #ouverture de l'onglet Corpus dans un DF\n",
        "  df = df_corpus[['uid','expression', langue,'index']]\n",
        "  return df\n"
      ],
      "execution_count": 5,
      "outputs": []
    },
    {
      "cell_type": "code",
      "metadata": {
        "id": "V9VTdnGTIgeA"
      },
      "source": [
        "vk_lang_dict=[\n",
        "{'language':'Arabe','trigramme':'ams'},\n",
        "{'language':'Turc','trigramme':'tur'},\n",
        "{'language':'Russe','trigramme':'rus'},\n",
        "{'language':'Ukrainien','trigramme':'ukr'},\n",
        "{'language':'Roumain','trigramme':'rou'},\n",
        "{'language':'Hongrois','trigramme':'hun'},\n",
        "{'language':'Tigrinya','trigramme':'tig'},\n",
        "{'language':'Albanais','trigramme':'alb'},\n",
        "{'language':'Géorgien','trigramme':'geo'},\n",
        "{'language':'Arménien','trigramme':'arm'},\n",
        "{'language':'Dari','trigramme':'dar'},\n",
        "{'language':'Pashto','trigramme':'pst'},\n",
        "{'language':'Fârsi','trigramme':'prs'},\n",
        "{'language':'Azéri','trigramme':'aze'},\n",
        "{'language':'Espagnol','trigramme':'esp'},\n",
        "{'language':'Amharique','trigramme':'amh'},\n",
        "{'language':'Peul','trigramme':'fma'},\n",
        "]"
      ],
      "execution_count": 6,
      "outputs": []
    },
    {
      "cell_type": "code",
      "metadata": {
        "id": "sg4uWTBsCVLU"
      },
      "source": [
        "class PDF(FPDF):\n",
        "  def __init__(self):\n",
        "    super().__init__()\n",
        "    self.WIDTH = 210\n",
        "    self.HEIGHT = 297\n",
        "    self.format = 'A4'\n",
        "    self.unit = 'in'\n",
        "    self.set_margins(20.0, 10.0, 20.0)\n",
        "    self.color_1 = (89, 80, 72) # marron\n",
        "    self.color_2 = (197, 217, 213) # blue pale   \n",
        "    self.color_3 = ( 74, 128, 140) # bleu ocean\n",
        "    self.color_4 = (142, 186, 191) # bleu ciel        \n",
        "    self.logo_1 = './logo_asamla.jpg'\n",
        "    self.font_1 = ('Montserrat-Medium', '', 11)\n",
        "    self.font_2 = ('Montserrat-Medium', '', 24)  \n",
        "    self.font_cover_1 = ('BebasNeue-Regular', '', 60)  \n",
        "    self.title_1 = 'Corpus Médical'\n",
        "    self.title_2 = 'Vaccination'\n",
        "    self.cover_1 = 'marcel-strauss-3Zlg1lgCu4E-unsplash.jpg'\n",
        "\n",
        "  def header(self):\n",
        "    # Custom logo and positioning\n",
        "    # Create an `assets` folder and put any wide and short image inside\n",
        "    # Name the image `logo.png`\n",
        "    self.image(self.logo_1, 10, 8, 33)\n",
        "    self.set_text_color (*self.color_1)\n",
        "    self.set_font(*self.font_1)\n",
        "    self.cell(self.WIDTH - 80)\n",
        "    self.cell(50, 1, self.title_1, 0, 0, 'R')\n",
        "    self.ln(5)      \n",
        "    self.cell(self.WIDTH - 80)\n",
        "    self.set_text_color (*self.color_1)\n",
        "    self.cell(50, 1, 'Français-'+self.local_language, 0, 0, 'R')      \n",
        "    new_y = self.get_y()+7\n",
        "    self.line(0, new_y, 210, new_y)\n",
        "\n",
        "  def print_page(self, images):\n",
        "    # Generates the report\n",
        "    self.add_page()  \n",
        "\n",
        "  def set_langue(self, langue):\n",
        "    self.local_language = langue\n",
        "\n",
        "  def add_fonts(self):\n",
        "    self.add_font('DejaVuSans', '', '/usr/share/fonts/truetype/dejavu/DejaVuSans.ttf', uni=True)\n",
        "    self.add_font('DejaVuSans-Bold', '', '/usr/share/fonts/truetype/dejavu/DejaVuSans.ttf', uni=True)    \n",
        "    self.add_font('NotoSerifEthiopic', '', '/usr/share/fonts/truetype/noto/NotoSerifEthiopic-Regular.ttf', uni=True)\n",
        "    self.add_font('NotoSansArabic', '', '/usr/share/fonts/truetype/noto/NotoSansArabic-Regular.ttf', uni=True) \n",
        "    self.add_font('BebasNeue-Regular','', 'BebasNeue-Regular.ttf', uni=True)   \n",
        "    self.add_font('Slackey-Regular','', 'Slackey-Regular.ttf', uni=True)  \n",
        "    self.add_font('Montserrat-Medium','','Montserrat-Medium.ttf', uni=True)\n",
        "\n",
        "  def set_effective_page_width(self, value):\n",
        "    self.effective_page_width = value\n",
        "\n",
        "  def set_effective_page_height(self, value):\n",
        "    self.effective_page_height = value\n",
        "\n",
        "  def set_multi_cell_width(self, value):\n",
        "    self.multi_cell_width = value\n",
        "\n",
        "  def set_rowh(self, value):\n",
        "    self.rowh = value\n",
        "\n",
        "  def first_page(self, langue):\n",
        "    self.set_font(*self.font_2)\n",
        "    self.set_text_color (*self.color_1)\n",
        "    # Calculate width of title and position\n",
        "    w = self.get_string_width(self.title_1) + 6\n",
        "    self.set_x((self.WIDTH) / 2)    \n",
        "    self.set_y((self.HEIGHT) /2.5)\n",
        "    self.cell(0,0, self.title_1, 0, 0, 'C',0)\n",
        "    self.ln(10)\n",
        "    self.set_font(*self.font_1)\n",
        "    self.cell(0,0, 'Français-'+self.local_language, 0, 0, 'C')\n",
        "    self.add_page()\n",
        "    self.set_text_color (0,0,0)\n",
        "\n",
        "  def cover(self):\n",
        "    self.image(self.cover_1,0,0,self.WIDTH,self.HEIGHT)\n",
        "    self.set_text_color(*self.color_1)\n",
        "    self.set_xy(self.l_margin, 90)\n",
        "    self.set_font(*self.font_cover_1)\n",
        "    self.cell(0,0, self.title_1, 0, 0, 'L')\n",
        "    self.ln(18)  \n",
        "\n",
        "    self.set_font(*self.font_cover_1)\n",
        "    self.set_text_color (*self.color_2)\n",
        "    self.cell(0,0, self.title_2, 0, 0, 'L')\n",
        "    self.ln(28)\n",
        "\n",
        "    self.set_font(*self.font_2)\n",
        "    self.set_text_color (*self.color_2) \n",
        "    title = 'Français-'+self.local_language\n",
        "    self.cell(0,0, title.upper(), 0, 0, 'L')\n",
        "\n",
        "    self.image(self.logo_1,self.l_margin,self.HEIGHT-self.l_margin,30)\n",
        "\n",
        "    self.add_page()  \n"
      ],
      "execution_count": 30,
      "outputs": []
    },
    {
      "cell_type": "code",
      "metadata": {
        "id": "CJfnGI8UmNTw"
      },
      "source": [
        "def print_expression(langue, df, pdf, ind, chosen_font_expr, chosen_font_trad):\n",
        "  # impression d'une ligne expression/traduction dans la bonne fonte\n",
        "  ln = 6.5\n",
        "  ybefore = pdf.get_y()\n",
        "  pdf.set_font(chosen_font_expr, '', 10.0)\n",
        "  pdf.set_text_color (0,0,0)\n",
        "  pdf.multi_cell(pdf.multi_cell_width, pdf.rowh, df['expression'][ind])\n",
        "  pdf.set_xy(pdf.effective_page_width/2 + pdf.l_margin, ybefore)\n",
        "  #---- cas de l'alphabet arabe\n",
        "  pdf.set_font(chosen_font_trad, '', 10.0)\n",
        "  if langue=='ams':\n",
        "    arabic_string = arabic_reshaper.reshape(df[langue][ind])\n",
        "    arabic_string = arabic_string[::-1]\n",
        "    w = pdf.get_string_width(arabic_string) + 6\n",
        "    pdf.multi_cell(pdf.multi_cell_width,  pdf.rowh, arabic_string, 0, 'R')\n",
        "    #pdf.cell(w, 9, arabic_string, 0, 1, 'L', 0)\n",
        "  else:\n",
        "    pdf.multi_cell(pdf.multi_cell_width,  pdf.rowh, df[langue][ind])\n",
        "\n",
        "  pdf.ln(ln)\n"
      ],
      "execution_count": 31,
      "outputs": []
    },
    {
      "cell_type": "code",
      "metadata": {
        "id": "MjGWKO1aMTLd"
      },
      "source": [
        "def create_pdf_instance(item, df):\n",
        "  pdf=PDF()\n",
        "  pdf.set_langue (item['language'])\n",
        "  pdf.add_fonts()\n",
        "  pdf.format = 'A4'\n",
        "  pdf.unit = 'in'\n",
        "  pdf.set_margins(20.0, 10.0, 20.0)\n",
        "  A4_height_inches = 11.6929\n",
        "  effective_page_width = pdf.w - 2*pdf.l_margin\n",
        "  effective_page_height = pdf.h - 2*pdf.b_margin\n",
        "  multi_cell_width = (effective_page_width/2)-5\n",
        "  pdf.set_effective_page_width(effective_page_width)\n",
        "  pdf.set_effective_page_height(effective_page_height)\n",
        "  pdf.set_multi_cell_width(multi_cell_width)\n",
        "\n",
        "  rowh = 4.5\n",
        "  pdf.set_rowh(rowh)\n",
        "  ln = 6.5\n",
        "\n",
        "  chosen_font_expr = 'DejaVuSans'\n",
        "  # cut here -------------------------------------------------------------\n",
        "  if item['trigramme']=='ams':\n",
        "    # font arabe\n",
        "    print(\"Font ams\")\n",
        "    chosen_font_trad = 'NotoSansArabic'\n",
        "  elif item['trigramme']=='tig':\n",
        "    # font amharique\n",
        "    print(\"Font tig\")\n",
        "    chosen_font_trad='NotoSerifEthiopic'\n",
        "  elif item['trigramme']=='arm':\n",
        "    # font arménien\n",
        "    print(\"Font arm\")   \n",
        "    chosen_font_trad = 'DejaVuSans' \n",
        "  else:\n",
        "    # font standard\n",
        "    chosen_font_trad = 'DejaVuSans'\n",
        "    # amharique/tigrinya\n",
        "\n",
        "\n",
        "  # Add new page. Without this you cannot create the document.\n",
        "  pdf.add_page()\n",
        "  # couverture\n",
        "  pdf.cover()\n",
        "  # Remember to always put one of these at least once.\n",
        "  pdf.set_font('Times','',10.0) \n",
        "\n",
        "\n",
        "  pdf.first_page(item['language'])\n",
        "\n",
        "  pdf.ln(ln)\n",
        "  idx = '' # index alpha (start)\n",
        "  # pour chaque élement expression/traduction\n",
        "  for ind in df.index:\n",
        "    ybefore = pdf.get_y()\n",
        "    if df['index'][ind] != idx:\n",
        "      # changement de lettre index\n",
        "      # vérification place en bas suffisante\n",
        "      space_left = effective_page_height-pdf.get_y()\n",
        "      # changement de page si place restante insuffisante\n",
        "      if space_left < 2:\n",
        "        pdf.add_page()\n",
        "        pdf.ln(ln*2)    \n",
        "\n",
        "      pdf.ln(ln*1.5)\n",
        "      ybefore = pdf.get_y()\n",
        "      # changement lettre index\n",
        "      pdf.set_font(*pdf.font_2)\n",
        "      pdf.set_text_color (*pdf.color_4)\n",
        "      pdf.multi_cell(multi_cell_width,  rowh, df['index'][ind])\n",
        "      pdf.set_xy(effective_page_width/2 + pdf.l_margin, ybefore)\n",
        "      pdf.multi_cell(multi_cell_width,  rowh, \" \")\n",
        "      idx = df['index'][ind]\n",
        "      pdf.ln(ln)\n",
        "\n",
        "    # expression / traduction\n",
        "    print_expression(item['trigramme'], df, pdf, ind, chosen_font_expr, chosen_font_trad)\n",
        "\n",
        "    # changement de page si place restante insuffisante\n",
        "    space_left = effective_page_height-pdf.get_y()\n",
        "    if space_left < 0:\n",
        "      pdf.add_page()\n",
        "      pdf.ln(ln*2)\n",
        "    #print (df['expression'][ind], str(space_left))\n",
        "\n",
        "  pdf.ln(ln)  \n",
        "  # cut here -------------------------------------------------------------\n",
        "\n",
        "  print (\"écriture de \" + item['trigramme'] + '.pdf')\n",
        "  pdf.output(item['trigramme'] + '.pdf', 'F')"
      ],
      "execution_count": 32,
      "outputs": []
    },
    {
      "cell_type": "code",
      "metadata": {
        "colab": {
          "base_uri": "https://localhost:8080/"
        },
        "id": "xRN7a9CKsfuD",
        "outputId": "f713f90f-887b-4dc4-e6a8-6d00010d5c8f"
      },
      "source": [
        "df_corpus_langue=[] \n",
        "#ouverture de chaque onglet Corpus de travail dans un DF\n",
        "for index, item in enumerate(vk_lang_dict):\n",
        "  df_corpus_langue.append (charge_corpus_langue(df_corpus, item['trigramme']))\n",
        "  create_pdf_instance(item, df_corpus_langue[index])\n"
      ],
      "execution_count": 33,
      "outputs": [
        {
          "output_type": "stream",
          "text": [
            "Font ams\n",
            "écriture de ams.pdf\n"
          ],
          "name": "stdout"
        },
        {
          "output_type": "stream",
          "text": [
            "/usr/local/lib/python3.7/dist-packages/fpdf/ttfonts.py:670: UserWarning: cmap value too big/small: -65149\n",
            "  warnings.warn(\"cmap value too big/small: %s\" % cm)\n",
            "/usr/local/lib/python3.7/dist-packages/fpdf/ttfonts.py:670: UserWarning: cmap value too big/small: -65161\n",
            "  warnings.warn(\"cmap value too big/small: %s\" % cm)\n",
            "/usr/local/lib/python3.7/dist-packages/fpdf/ttfonts.py:670: UserWarning: cmap value too big/small: -65160\n",
            "  warnings.warn(\"cmap value too big/small: %s\" % cm)\n",
            "/usr/local/lib/python3.7/dist-packages/fpdf/ttfonts.py:670: UserWarning: cmap value too big/small: -65162\n",
            "  warnings.warn(\"cmap value too big/small: %s\" % cm)\n",
            "/usr/local/lib/python3.7/dist-packages/fpdf/ttfonts.py:670: UserWarning: cmap value too big/small: -65090\n",
            "  warnings.warn(\"cmap value too big/small: %s\" % cm)\n",
            "/usr/local/lib/python3.7/dist-packages/fpdf/ttfonts.py:670: UserWarning: cmap value too big/small: -65163\n",
            "  warnings.warn(\"cmap value too big/small: %s\" % cm)\n",
            "/usr/local/lib/python3.7/dist-packages/fpdf/ttfonts.py:670: UserWarning: cmap value too big/small: -65164\n",
            "  warnings.warn(\"cmap value too big/small: %s\" % cm)\n",
            "/usr/local/lib/python3.7/dist-packages/fpdf/ttfonts.py:670: UserWarning: cmap value too big/small: -65166\n",
            "  warnings.warn(\"cmap value too big/small: %s\" % cm)\n",
            "/usr/local/lib/python3.7/dist-packages/fpdf/ttfonts.py:670: UserWarning: cmap value too big/small: -65165\n",
            "  warnings.warn(\"cmap value too big/small: %s\" % cm)\n",
            "/usr/local/lib/python3.7/dist-packages/fpdf/ttfonts.py:670: UserWarning: cmap value too big/small: -65167\n",
            "  warnings.warn(\"cmap value too big/small: %s\" % cm)\n",
            "/usr/local/lib/python3.7/dist-packages/fpdf/ttfonts.py:670: UserWarning: cmap value too big/small: -65168\n",
            "  warnings.warn(\"cmap value too big/small: %s\" % cm)\n",
            "/usr/local/lib/python3.7/dist-packages/fpdf/ttfonts.py:670: UserWarning: cmap value too big/small: -65170\n",
            "  warnings.warn(\"cmap value too big/small: %s\" % cm)\n",
            "/usr/local/lib/python3.7/dist-packages/fpdf/ttfonts.py:670: UserWarning: cmap value too big/small: -65169\n",
            "  warnings.warn(\"cmap value too big/small: %s\" % cm)\n",
            "/usr/local/lib/python3.7/dist-packages/fpdf/ttfonts.py:670: UserWarning: cmap value too big/small: -65171\n",
            "  warnings.warn(\"cmap value too big/small: %s\" % cm)\n",
            "/usr/local/lib/python3.7/dist-packages/fpdf/ttfonts.py:670: UserWarning: cmap value too big/small: -65173\n",
            "  warnings.warn(\"cmap value too big/small: %s\" % cm)\n",
            "/usr/local/lib/python3.7/dist-packages/fpdf/ttfonts.py:670: UserWarning: cmap value too big/small: -65175\n",
            "  warnings.warn(\"cmap value too big/small: %s\" % cm)\n",
            "/usr/local/lib/python3.7/dist-packages/fpdf/ttfonts.py:670: UserWarning: cmap value too big/small: -65174\n",
            "  warnings.warn(\"cmap value too big/small: %s\" % cm)\n",
            "/usr/local/lib/python3.7/dist-packages/fpdf/ttfonts.py:670: UserWarning: cmap value too big/small: -65178\n",
            "  warnings.warn(\"cmap value too big/small: %s\" % cm)\n",
            "/usr/local/lib/python3.7/dist-packages/fpdf/ttfonts.py:670: UserWarning: cmap value too big/small: -65177\n",
            "  warnings.warn(\"cmap value too big/small: %s\" % cm)\n",
            "/usr/local/lib/python3.7/dist-packages/fpdf/ttfonts.py:670: UserWarning: cmap value too big/small: -65179\n",
            "  warnings.warn(\"cmap value too big/small: %s\" % cm)\n",
            "/usr/local/lib/python3.7/dist-packages/fpdf/ttfonts.py:670: UserWarning: cmap value too big/small: -65181\n",
            "  warnings.warn(\"cmap value too big/small: %s\" % cm)\n",
            "/usr/local/lib/python3.7/dist-packages/fpdf/ttfonts.py:670: UserWarning: cmap value too big/small: -65180\n",
            "  warnings.warn(\"cmap value too big/small: %s\" % cm)\n",
            "/usr/local/lib/python3.7/dist-packages/fpdf/ttfonts.py:670: UserWarning: cmap value too big/small: -65185\n",
            "  warnings.warn(\"cmap value too big/small: %s\" % cm)\n"
          ],
          "name": "stderr"
        },
        {
          "output_type": "stream",
          "text": [
            "écriture de tur.pdf\n",
            "écriture de rus.pdf\n",
            "écriture de ukr.pdf\n",
            "écriture de rou.pdf\n",
            "écriture de hun.pdf\n",
            "Font tig\n",
            "écriture de tig.pdf\n",
            "écriture de alb.pdf\n",
            "écriture de geo.pdf\n",
            "Font arm\n",
            "écriture de arm.pdf\n",
            "écriture de dar.pdf\n",
            "écriture de pst.pdf\n",
            "écriture de prs.pdf\n",
            "écriture de aze.pdf\n",
            "écriture de esp.pdf\n",
            "écriture de amh.pdf\n",
            "écriture de fma.pdf\n"
          ],
          "name": "stdout"
        }
      ]
    },
    {
      "cell_type": "code",
      "metadata": {
        "colab": {
          "base_uri": "https://localhost:8080/"
        },
        "id": "JNxxoyrLSlM0",
        "outputId": "95f04c3b-cdb8-4d79-a094-e4fe40220aef"
      },
      "source": [
        "! ls /usr/share/fonts/opentype/bebas-neue/"
      ],
      "execution_count": 34,
      "outputs": [
        {
          "output_type": "stream",
          "text": [
            "ls: cannot access '/usr/share/fonts/opentype/bebas-neue/': No such file or directory\n"
          ],
          "name": "stdout"
        }
      ]
    },
    {
      "cell_type": "markdown",
      "metadata": {
        "id": "17L-K5HkCaIT"
      },
      "source": [
        "## Classe de construction de PDF"
      ]
    },
    {
      "cell_type": "code",
      "metadata": {
        "colab": {
          "base_uri": "https://localhost:8080/",
          "height": 35
        },
        "id": "HLO39PibCl2f",
        "outputId": "5142d823-f7ed-42bd-9952-bd5a9de378c9"
      },
      "source": [
        "# Create instance of FPDF class\n",
        "# Letter size paper, use inches as unit of measure\n",
        "# https://stackoverflow.com/questions/58801358/displaying-arabic-words-incorrectly-in-fpdf-python\n",
        "\n",
        "pdf=PDF()\n",
        "pdf.set_langue ('ukr')\n",
        "pdf.add_font('DejaVuSans', '', '/usr/share/fonts/truetype/dejavu/DejaVuSans.ttf', uni=True)\n",
        "pdf.add_font('DejaVuSans-Bold', '', '/usr/share/fonts/truetype/dejavu/DejaVuSans.ttf', uni=True)\n",
        "pdf.set_font('DejaVuSans', '', 9.0)\n",
        "# amharique/tigrinya\n",
        "pdf.add_font('NotoSerifEthiopic', '', '/usr/share/fonts/truetype/noto/NotoSerifEthiopic-Regular.ttf', uni=True)\n",
        "#pdf.set_font('NotoSerifEthiopic', '', 9.0)\n",
        "\n",
        "pdf.format = 'A4'\n",
        "pdf.unit = 'in'\n",
        "pdf.set_margins(20.0, 10.0, 20.0)\n",
        "# Add new page. Without this you cannot create the document.\n",
        "pdf.add_page()\n",
        " \n",
        "# Remember to always put one of these at least once.\n",
        "#pdf.set_font('Times','',10.0) \n",
        "\n",
        "A4_height_inches = 11.6929\n",
        "effective_page_width = pdf.w - 2*pdf.l_margin\n",
        "effective_page_height = pdf.h - 2*pdf.b_margin\n",
        "\n",
        "multi_cell_width = (effective_page_width/2)-5\n",
        "\n",
        "rowh = 4.5\n",
        "ln = 6.5\n",
        "pdf.ln(ln)\n",
        "idx = '' # index alpha (start)\n",
        "for ind in df.index:\n",
        "  ybefore = pdf.get_y()\n",
        "  if df['index'][ind] != idx:\n",
        "    pdf.ln(ln*1.5)\n",
        "    ybefore = pdf.get_y()\n",
        "    # changement lettre index\n",
        "    pdf.set_font('DejaVuSans-Bold','',24.0)\n",
        "    pdf.set_text_color (98,163,98)\n",
        "    pdf.multi_cell(multi_cell_width,  rowh, df['index'][ind])\n",
        "    pdf.set_xy(effective_page_width/2 + pdf.l_margin, ybefore)\n",
        "    pdf.multi_cell(multi_cell_width,  rowh, \" \")\n",
        "    idx = df['index'][ind]\n",
        "    pdf.ln(ln)\n",
        "\n",
        "  ybefore = pdf.get_y()\n",
        "  pdf.set_font('DejaVuSans', '', 9.0)\n",
        "  pdf.set_text_color (0,0,0)\n",
        "  pdf.multi_cell(multi_cell_width,  rowh, df['expression'][ind])\n",
        "  pdf.set_xy(effective_page_width/2 + pdf.l_margin, ybefore)\n",
        "  #---- cas de l'alphabet arabe\n",
        "  # arabic_string = arabic_reshaper.reshape(df['ams'][ind])\n",
        "  # arabic_string = arabic_string[::-1]\n",
        "  # w = pdf.get_string_width(arabic_string) + 6\n",
        "  #pdf.cell(w, 9, arabic_string, 0, 1, 'L', 0)\n",
        "\n",
        "  #pdf.set_font('NotoSerifEthiopic', '', 9.0)\n",
        "  pdf.multi_cell(multi_cell_width,  rowh, df['rus'][ind])\n",
        "\n",
        "  pdf.ln(ln)\n",
        "\n",
        "  space_left = effective_page_height-pdf.get_y()\n",
        "  if space_left < 0:\n",
        "    pdf.add_page()\n",
        "    pdf.ln(ln*2)\n",
        "  #print (df['expression'][ind], str(space_left))\n",
        "\n",
        "pdf.ln(ln)  \n",
        "pdf.output('tut58.pdf', 'F')"
      ],
      "execution_count": null,
      "outputs": [
        {
          "output_type": "execute_result",
          "data": {
            "application/vnd.google.colaboratory.intrinsic+json": {
              "type": "string"
            },
            "text/plain": [
              "''"
            ]
          },
          "metadata": {
            "tags": []
          },
          "execution_count": 65
        }
      ]
    },
    {
      "cell_type": "code",
      "metadata": {
        "colab": {
          "base_uri": "https://localhost:8080/"
        },
        "id": "TxzI5aaG2PSz",
        "outputId": "f6f09352-54bc-44b0-f791-7cb8824e5f2c"
      },
      "source": [
        "ls -l /usr/share/fonts/truetype/dejavu/"
      ],
      "execution_count": null,
      "outputs": [
        {
          "output_type": "stream",
          "text": [
            "total 2956\n",
            "-rw-r--r-- 1 root root 705684 Jul 30  2016 DejaVuSans-Bold.ttf\n",
            "-rw-r--r-- 1 root root    549 Jun 14 08:39 DejaVuSans.cw127.pkl\n",
            "-rw-r--r-- 1 root root 331992 Jul 30  2016 DejaVuSansMono-Bold.ttf\n",
            "-rw-r--r-- 1 root root 340712 Jul 30  2016 DejaVuSansMono.ttf\n",
            "-rw-r--r-- 1 root root 136927 Jun 14 08:39 DejaVuSans.pkl\n",
            "-rw-r--r-- 1 root root 757076 Jul 30  2016 DejaVuSans.ttf\n",
            "-rw-r--r-- 1 root root 356088 Jul 30  2016 DejaVuSerif-Bold.ttf\n",
            "-rw-r--r-- 1 root root 380132 Jul 30  2016 DejaVuSerif.ttf\n"
          ],
          "name": "stdout"
        }
      ]
    },
    {
      "cell_type": "code",
      "metadata": {
        "id": "6JxKENWTapK0",
        "colab": {
          "base_uri": "https://localhost:8080/",
          "height": 35
        },
        "outputId": "f3363ae6-35f1-4efb-a916-d4d73023b23f"
      },
      "source": [
        "# Import FPDF class\n",
        "from fpdf import FPDF\n",
        "\n",
        "\n",
        "# Create instance of FPDF class\n",
        "# Letter size paper, use inches as unit of measure\n",
        "pdf=FPDF(format='A4', unit='in')\n",
        "pdf.add_font('DejaVuSans', '', '/usr/share/fonts/truetype/dejavu/DejaVuSans.ttf', uni=True)\n",
        "pdf.set_font('DejaVuSans', '', 9.0)\n",
        "\n",
        "pdf.add_font('NotoSerifEthiopic', '', '/usr/share/fonts/truetype/noto/NotoSerifEthiopic-Regular.ttf', uni=True)\n",
        "pdf.set_font('NotoSerifEthiopic', '', 9.0)\n",
        "# Add new page. Without this you cannot create the document.\n",
        "pdf.add_page()\n",
        " \n",
        "# Remember to always put one of these at least once.\n",
        "#pdf.set_font('Times','',10.0) \n",
        "\n",
        "A4_height_inches = 11.6929\n",
        "effective_page_width = pdf.w - 2*pdf.l_margin\n",
        "effective_page_height = pdf.h - 2*pdf.b_margin\n",
        "\n",
        "for ind in df.index:\n",
        "  ybefore = pdf.get_y()\n",
        "  pdf.multi_cell(effective_page_width/2,  0.15, df['expression'][ind])\n",
        "  pdf.set_xy(effective_page_width/2 + pdf.l_margin, ybefore)\n",
        "  pdf.multi_cell(effective_page_width/2,  0.15, df['tig'][ind])\n",
        "  pdf.ln(0.15)\n",
        "  space_left = effective_page_height-pdf.get_y()\n",
        "  if space_left < 0:\n",
        "    pdf.add_page()\n",
        "  #print (df['expression'][ind], str(space_left))\n",
        "\n",
        "pdf.output('test4.pdf','F')"
      ],
      "execution_count": null,
      "outputs": [
        {
          "output_type": "execute_result",
          "data": {
            "application/vnd.google.colaboratory.intrinsic+json": {
              "type": "string"
            },
            "text/plain": [
              "''"
            ]
          },
          "metadata": {
            "tags": []
          },
          "execution_count": 31
        }
      ]
    },
    {
      "cell_type": "code",
      "metadata": {
        "id": "LfTASFnO0dyI"
      },
      "source": [
        ""
      ],
      "execution_count": null,
      "outputs": []
    }
  ]
}