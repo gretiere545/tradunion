{
  "nbformat": 4,
  "nbformat_minor": 0,
  "metadata": {
    "colab": {
      "name": "corpus_glossary_builder.ipynb",
      "provenance": [],
      "collapsed_sections": [],
      "authorship_tag": "ABX9TyPtzWltTLsGiKBx9oSLV1wx",
      "include_colab_link": true
    },
    "kernelspec": {
      "name": "python3",
      "display_name": "Python 3"
    },
    "language_info": {
      "name": "python"
    }
  },
  "cells": [
    {
      "cell_type": "markdown",
      "metadata": {
        "id": "view-in-github",
        "colab_type": "text"
      },
      "source": [
        "<a href=\"https://colab.research.google.com/github/gretiere545/tradunion/blob/master/corpus_glossary_builder.ipynb\" target=\"_parent\"><img src=\"https://colab.research.google.com/assets/colab-badge.svg\" alt=\"Open In Colab\"/></a>"
      ]
    },
    {
      "cell_type": "markdown",
      "metadata": {
        "id": "FB29HktrvvBJ"
      },
      "source": [
        "# Création d'un glossaire alphabétique des Corpus ASAMLA"
      ]
    },
    {
      "cell_type": "markdown",
      "metadata": {
        "id": "7P--WKJPv0Px"
      },
      "source": [
        "## Chargement des Corpus"
      ]
    },
    {
      "cell_type": "code",
      "metadata": {
        "colab": {
          "base_uri": "https://localhost:8080/"
        },
        "id": "_5CoZ3ORv3Bh",
        "outputId": "97996219-a89a-47d6-d685-d75ae00aa878"
      },
      "source": [
        "#!/usr/bin/env python\n",
        "# -*- coding: utf8 -*-\n",
        "\n",
        "!pip install fpdf\n",
        "!pip install arabic_reshaper\n",
        "# https://pyfpdfbook.wordpress.com/2015/03/22/putting-two-adjacent-multicell-blocks/\n",
        "import pandas as pd\n",
        "import numpy as np\n",
        "from fpdf import FPDF\n",
        "import arabic_reshaper\n",
        "pd.set_option(\"display.width\",1000)\n",
        "# Ce bout de code pour pouvoir downloader des fichiers sur le drive\n",
        "from google.colab import drive\n",
        "drive.mount('/content/drive')\n",
        "# Ce bout de code pour pouvoir downloader des google sheets dans des dataframes\n",
        "from google.colab import auth\n",
        "auth.authenticate_user()\n",
        "import gspread\n",
        "from gspread_dataframe import get_as_dataframe, set_with_dataframe\n",
        "from oauth2client.client import GoogleCredentials\n",
        "gc = gspread.authorize(GoogleCredentials.get_application_default())\n",
        "!export PYTHONIOENCODING=utf8\n",
        "%cd /content/drive/MyDrive/Trad-Union/Corpus/ASAMLA\n"
      ],
      "execution_count": 1,
      "outputs": [
        {
          "output_type": "stream",
          "text": [
            "Collecting fpdf\n",
            "  Downloading https://files.pythonhosted.org/packages/37/c6/608a9e6c172bf9124aa687ec8b9f0e8e5d697d59a5f4fad0e2d5ec2a7556/fpdf-1.7.2.tar.gz\n",
            "Building wheels for collected packages: fpdf\n",
            "  Building wheel for fpdf (setup.py) ... \u001b[?25l\u001b[?25hdone\n",
            "  Created wheel for fpdf: filename=fpdf-1.7.2-py2.py3-none-any.whl size=40722 sha256=a60f212275fbca13207fa79aac91f608126ae4e91f5ba48f3a776d7ab526a42d\n",
            "  Stored in directory: /root/.cache/pip/wheels/9a/e9/77/4554ff5c99bc3f487c8d69620d8c41d99d54e9c54ab20ef4c9\n",
            "Successfully built fpdf\n",
            "Installing collected packages: fpdf\n",
            "Successfully installed fpdf-1.7.2\n",
            "Collecting arabic_reshaper\n",
            "  Downloading https://files.pythonhosted.org/packages/47/27/7b9b824f5342d8ee180027333f2e15842ea36f5bc2d3d24a4e6bb31fb596/arabic_reshaper-2.1.3-py3-none-any.whl\n",
            "Requirement already satisfied: future in /usr/local/lib/python3.7/dist-packages (from arabic_reshaper) (0.16.0)\n",
            "Requirement already satisfied: setuptools in /usr/local/lib/python3.7/dist-packages (from arabic_reshaper) (57.0.0)\n",
            "Installing collected packages: arabic-reshaper\n",
            "Successfully installed arabic-reshaper-2.1.3\n",
            "Mounted at /content/drive\n",
            "/content/drive/MyDrive/Trad-Union/Corpus/ASAMLA\n"
          ],
          "name": "stdout"
        }
      ]
    },
    {
      "cell_type": "code",
      "metadata": {
        "colab": {
          "base_uri": "https://localhost:8080/"
        },
        "id": "hEnhLKd-xgY8",
        "outputId": "28a65f4a-f478-4d04-fd91-f943230268b8"
      },
      "source": [
        "# cyrillique\n",
        "!apt-get update -qq\n",
        "!apt-get install -y fonts-dejavu-core -qq\n",
        "\n",
        "# amharique\n",
        "!apt-get update\n",
        "!apt-get install fonts-noto\n"
      ],
      "execution_count": 2,
      "outputs": [
        {
          "output_type": "stream",
          "text": [
            "Selecting previously unselected package fonts-dejavu-core.\n",
            "(Reading database ... 160772 files and directories currently installed.)\n",
            "Preparing to unpack .../fonts-dejavu-core_2.37-1_all.deb ...\n",
            "Unpacking fonts-dejavu-core (2.37-1) ...\n",
            "Setting up fonts-dejavu-core (2.37-1) ...\n",
            "Processing triggers for fontconfig (2.12.6-0ubuntu2) ...\n",
            "Hit:1 http://security.ubuntu.com/ubuntu bionic-security InRelease\n",
            "Ign:2 https://developer.download.nvidia.com/compute/cuda/repos/ubuntu1804/x86_64  InRelease\n",
            "Hit:3 https://cloud.r-project.org/bin/linux/ubuntu bionic-cran40/ InRelease\n",
            "Ign:4 https://developer.download.nvidia.com/compute/machine-learning/repos/ubuntu1804/x86_64  InRelease\n",
            "Hit:5 https://developer.download.nvidia.com/compute/cuda/repos/ubuntu1804/x86_64  Release\n",
            "Hit:6 http://archive.ubuntu.com/ubuntu bionic InRelease\n",
            "Hit:7 http://ppa.launchpad.net/c2d4u.team/c2d4u4.0+/ubuntu bionic InRelease\n",
            "Hit:8 https://developer.download.nvidia.com/compute/machine-learning/repos/ubuntu1804/x86_64  Release\n",
            "Hit:9 http://archive.ubuntu.com/ubuntu bionic-updates InRelease\n",
            "Hit:10 http://archive.ubuntu.com/ubuntu bionic-backports InRelease\n",
            "Hit:11 http://ppa.launchpad.net/cran/libgit2/ubuntu bionic InRelease\n",
            "Hit:12 http://ppa.launchpad.net/deadsnakes/ppa/ubuntu bionic InRelease\n",
            "Hit:14 http://ppa.launchpad.net/graphics-drivers/ppa/ubuntu bionic InRelease\n",
            "Reading package lists... Done\n",
            "Reading package lists... Done\n",
            "Building dependency tree       \n",
            "Reading state information... Done\n",
            "The following additional packages will be installed:\n",
            "  fonts-noto-cjk fonts-noto-hinted fonts-noto-mono fonts-noto-unhinted\n",
            "Suggested packages:\n",
            "  fonts-noto-cjk-extra\n",
            "The following NEW packages will be installed:\n",
            "  fonts-noto fonts-noto-cjk fonts-noto-hinted fonts-noto-mono\n",
            "  fonts-noto-unhinted\n",
            "0 upgraded, 5 newly installed, 0 to remove and 48 not upgraded.\n",
            "Need to get 64.0 MB of archives.\n",
            "After this operation, 123 MB of additional disk space will be used.\n",
            "Get:1 http://archive.ubuntu.com/ubuntu bionic/universe amd64 fonts-noto-hinted all 20171026-2 [6,653 kB]\n",
            "Get:2 http://archive.ubuntu.com/ubuntu bionic/universe amd64 fonts-noto all 20171026-2 [4,136 B]\n",
            "Get:3 http://archive.ubuntu.com/ubuntu bionic-updates/main amd64 fonts-noto-cjk all 1:20190409+repack1-0ubuntu0.18.04 [55.7 MB]\n",
            "Get:4 http://archive.ubuntu.com/ubuntu bionic/main amd64 fonts-noto-mono all 20171026-2 [75.5 kB]\n",
            "Get:5 http://archive.ubuntu.com/ubuntu bionic/universe amd64 fonts-noto-unhinted all 20171026-2 [1,576 kB]\n",
            "Fetched 64.0 MB in 3s (20.5 MB/s)\n",
            "Selecting previously unselected package fonts-noto-hinted.\n",
            "(Reading database ... 160812 files and directories currently installed.)\n",
            "Preparing to unpack .../fonts-noto-hinted_20171026-2_all.deb ...\n",
            "Unpacking fonts-noto-hinted (20171026-2) ...\n",
            "Selecting previously unselected package fonts-noto.\n",
            "Preparing to unpack .../fonts-noto_20171026-2_all.deb ...\n",
            "Unpacking fonts-noto (20171026-2) ...\n",
            "Selecting previously unselected package fonts-noto-cjk.\n",
            "Preparing to unpack .../fonts-noto-cjk_1%3a20190409+repack1-0ubuntu0.18.04_all.deb ...\n",
            "Unpacking fonts-noto-cjk (1:20190409+repack1-0ubuntu0.18.04) ...\n",
            "Selecting previously unselected package fonts-noto-mono.\n",
            "Preparing to unpack .../fonts-noto-mono_20171026-2_all.deb ...\n",
            "Unpacking fonts-noto-mono (20171026-2) ...\n",
            "Selecting previously unselected package fonts-noto-unhinted.\n",
            "Preparing to unpack .../fonts-noto-unhinted_20171026-2_all.deb ...\n",
            "Unpacking fonts-noto-unhinted (20171026-2) ...\n",
            "Setting up fonts-noto-unhinted (20171026-2) ...\n",
            "Setting up fonts-noto-cjk (1:20190409+repack1-0ubuntu0.18.04) ...\n",
            "Setting up fonts-noto-mono (20171026-2) ...\n",
            "Setting up fonts-noto-hinted (20171026-2) ...\n",
            "Setting up fonts-noto (20171026-2) ...\n",
            "Processing triggers for fontconfig (2.12.6-0ubuntu2) ...\n"
          ],
          "name": "stdout"
        }
      ]
    },
    {
      "cell_type": "markdown",
      "metadata": {
        "id": "OoQvIFW_zGec"
      },
      "source": [
        ""
      ]
    },
    {
      "cell_type": "code",
      "metadata": {
        "id": "ghnGFU1sphV_"
      },
      "source": [
        "# Ouverture de la Sheet Centrale (corpus_central_base)\n",
        "sheet_central = 'https://docs.google.com/spreadsheets/d/1L8YB1aXHUJwUE9AE6xyn_xMHalinGR335Q7lntwbu1U'\n",
        "wb_central = gc.open_by_url(sheet_central)\n",
        "#ouverture de l'onglet Corpus dans un DF\n",
        "t_corpus = wb_central.worksheet('med_vac_synthese')\n",
        "data_t_corpus = t_corpus.get_all_values()\n",
        "df_corpus = pd.DataFrame(data_t_corpus[1:], columns=data_t_corpus[0])\n",
        "df = df_corpus[['uid','expression','rus','index']]\n",
        "\n"
      ],
      "execution_count": 5,
      "outputs": []
    },
    {
      "cell_type": "code",
      "metadata": {
        "id": "qzfXcwNtH6cX"
      },
      "source": [
        "def charge_corpus_langue(df_corpus, langue):\n",
        "  #ouverture de l'onglet Corpus dans un DF\n",
        "  df = df_corpus[['uid','expression', langue,'index']]\n",
        "  return df\n"
      ],
      "execution_count": 57,
      "outputs": []
    },
    {
      "cell_type": "code",
      "metadata": {
        "id": "V9VTdnGTIgeA"
      },
      "source": [
        "vk_lang_dict=[\n",
        "{'language':'Arabe','trigramme':'ams'},\n",
        "{'language':'Turc','trigramme':'tur'},\n",
        "{'language':'Russe','trigramme':'rus'},\n",
        "{'language':'Ukrainien','trigramme':'ukr'},\n",
        "{'language':'Roumain','trigramme':'rou'},\n",
        "{'language':'Hongrois','trigramme':'hun'},\n",
        "{'language':'Tigrinya','trigramme':'tig'},\n",
        "{'language':'Albanais','trigramme':'alb'},\n",
        "{'language':'Géorgien','trigramme':'geo'},\n",
        "{'language':'Arménien','trigramme':'arm'},\n",
        "{'language':'Dari','trigramme':'dar'},\n",
        "{'language':'Pashto','trigramme':'pst'},\n",
        "{'language':'Fârsi','trigramme':'prs'},\n",
        "{'language':'Azéri','trigramme':'aze'},\n",
        "{'language':'Espagnol','trigramme':'esp'},\n",
        "{'language':'Amharique','trigramme':'amh'},\n",
        "{'language':'Peul','trigramme':'fma'},\n",
        "]"
      ],
      "execution_count": 56,
      "outputs": []
    },
    {
      "cell_type": "code",
      "metadata": {
        "id": "sg4uWTBsCVLU"
      },
      "source": [
        "class PDF(FPDF):\n",
        "  def __init__(self):\n",
        "      super().__init__()\n",
        "      self.WIDTH = 210\n",
        "      self.HEIGHT = 297\n",
        "      self.format = 'A4'\n",
        "      self.unit = 'in'\n",
        "      self.set_margins(20.0, 10.0, 20.0)\n",
        "\n",
        "  def header(self):\n",
        "      # Custom logo and positioning\n",
        "      # Create an `assets` folder and put any wide and short image inside\n",
        "      # Name the image `logo.png`\n",
        "      self.image('./logo_asamla.jpg', 10, 8, 33)\n",
        "      self.set_text_color (0,0,0)\n",
        "      self.set_font('Arial', '', 11)\n",
        "      self.cell(self.WIDTH - 80)\n",
        "      self.cell(50, 1, 'Corpus Médical - Vaccination', 0, 0, 'R')\n",
        "      self.ln(5)      \n",
        "      self.cell(self.WIDTH - 80)\n",
        "      self.set_text_color (98,163,98)\n",
        "      self.cell(50, 1, 'Glossaire Français-'+self.local_language, 0, 0, 'R')      \n",
        "      new_y = self.get_y()+7\n",
        "      self.line(0, new_y, 210, new_y)\n",
        "\n",
        "  def print_page(self, images):\n",
        "      # Generates the report\n",
        "      self.add_page()  \n",
        "\n",
        "  def set_langue(self, langue):\n",
        "      self.local_language = langue\n",
        "\n",
        "\n"
      ],
      "execution_count": 73,
      "outputs": []
    },
    {
      "cell_type": "code",
      "metadata": {
        "id": "MjGWKO1aMTLd"
      },
      "source": [
        "def create_pdf_instance(item, df):\n",
        "  pdf=PDF()\n",
        "  pdf.set_langue (item['language'])\n",
        "\n",
        "  # cut here -------------------------------------------------------------\n",
        "  pdf.add_font('DejaVuSans', '', '/usr/share/fonts/truetype/dejavu/DejaVuSans.ttf', uni=True)\n",
        "  pdf.add_font('DejaVuSans-Bold', '', '/usr/share/fonts/truetype/dejavu/DejaVuSans.ttf', uni=True)\n",
        "  pdf.set_font('DejaVuSans', '', 9.0)\n",
        "  # amharique/tigrinya\n",
        "  pdf.add_font('NotoSerifEthiopic', '', '/usr/share/fonts/truetype/noto/NotoSerifEthiopic-Regular.ttf', uni=True)\n",
        "  #pdf.set_font('NotoSerifEthiopic', '', 9.0)\n",
        "\n",
        "  pdf.format = 'A4'\n",
        "  pdf.unit = 'in'\n",
        "  pdf.set_margins(20.0, 10.0, 20.0)\n",
        "  # Add new page. Without this you cannot create the document.\n",
        "  pdf.add_page()\n",
        "  \n",
        "  # Remember to always put one of these at least once.\n",
        "  #pdf.set_font('Times','',10.0) \n",
        "\n",
        "  A4_height_inches = 11.6929\n",
        "  effective_page_width = pdf.w - 2*pdf.l_margin\n",
        "  effective_page_height = pdf.h - 2*pdf.b_margin\n",
        "\n",
        "  multi_cell_width = (effective_page_width/2)-5\n",
        "\n",
        "  rowh = 4.5\n",
        "  ln = 6.5\n",
        "  pdf.ln(ln)\n",
        "  idx = '' # index alpha (start)\n",
        "  for ind in df.index:\n",
        "    ybefore = pdf.get_y()\n",
        "    if df['index'][ind] != idx:\n",
        "      pdf.ln(ln*1.5)\n",
        "      ybefore = pdf.get_y()\n",
        "      # changement lettre index\n",
        "      pdf.set_font('DejaVuSans-Bold','',24.0)\n",
        "      pdf.set_text_color (98,163,98)\n",
        "      pdf.multi_cell(multi_cell_width,  rowh, df['index'][ind])\n",
        "      pdf.set_xy(effective_page_width/2 + pdf.l_margin, ybefore)\n",
        "      pdf.multi_cell(multi_cell_width,  rowh, \" \")\n",
        "      idx = df['index'][ind]\n",
        "      pdf.ln(ln)\n",
        "\n",
        "    ybefore = pdf.get_y()\n",
        "    pdf.set_font('DejaVuSans', '', 9.0)\n",
        "    pdf.set_text_color (0,0,0)\n",
        "    pdf.multi_cell(multi_cell_width,  rowh, df['expression'][ind])\n",
        "    pdf.set_xy(effective_page_width/2 + pdf.l_margin, ybefore)\n",
        "    #---- cas de l'alphabet arabe\n",
        "    # arabic_string = arabic_reshaper.reshape(df['ams'][ind])\n",
        "    # arabic_string = arabic_string[::-1]\n",
        "    # w = pdf.get_string_width(arabic_string) + 6\n",
        "    #pdf.cell(w, 9, arabic_string, 0, 1, 'L', 0)\n",
        "\n",
        "    #pdf.set_font('NotoSerifEthiopic', '', 9.0)\n",
        "    pdf.multi_cell(multi_cell_width,  rowh, df[item['trigramme']][ind])\n",
        "\n",
        "    pdf.ln(ln)\n",
        "\n",
        "    space_left = effective_page_height-pdf.get_y()\n",
        "    if space_left < 0:\n",
        "      pdf.add_page()\n",
        "      pdf.ln(ln*2)\n",
        "    #print (df['expression'][ind], str(space_left))\n",
        "\n",
        "  pdf.ln(ln)  \n",
        "  # cut here -------------------------------------------------------------\n",
        "\n",
        "\n",
        "  pdf.output(item['trigramme'] + '.pdf', 'F')"
      ],
      "execution_count": 75,
      "outputs": []
    },
    {
      "cell_type": "code",
      "metadata": {
        "id": "xRN7a9CKsfuD"
      },
      "source": [
        "df_corpus_langue=[] \n",
        "#ouverture de chaque onglet Corpus de travail dans un DF\n",
        "for index, item in enumerate(vk_lang_dict):\n",
        "  df_corpus_langue.append (charge_corpus_langue(df_corpus, item['trigramme']))\n",
        "  create_pdf_instance(item, df_corpus_langue[index])\n"
      ],
      "execution_count": 76,
      "outputs": []
    },
    {
      "cell_type": "markdown",
      "metadata": {
        "id": "17L-K5HkCaIT"
      },
      "source": [
        "## Classe de construction de PDF"
      ]
    },
    {
      "cell_type": "code",
      "metadata": {
        "colab": {
          "base_uri": "https://localhost:8080/",
          "height": 35
        },
        "id": "HLO39PibCl2f",
        "outputId": "5142d823-f7ed-42bd-9952-bd5a9de378c9"
      },
      "source": [
        "# Create instance of FPDF class\n",
        "# Letter size paper, use inches as unit of measure\n",
        "# https://stackoverflow.com/questions/58801358/displaying-arabic-words-incorrectly-in-fpdf-python\n",
        "\n",
        "pdf=PDF()\n",
        "pdf.set_langue ('ukr')\n",
        "pdf.add_font('DejaVuSans', '', '/usr/share/fonts/truetype/dejavu/DejaVuSans.ttf', uni=True)\n",
        "pdf.add_font('DejaVuSans-Bold', '', '/usr/share/fonts/truetype/dejavu/DejaVuSans.ttf', uni=True)\n",
        "pdf.set_font('DejaVuSans', '', 9.0)\n",
        "# amharique/tigrinya\n",
        "pdf.add_font('NotoSerifEthiopic', '', '/usr/share/fonts/truetype/noto/NotoSerifEthiopic-Regular.ttf', uni=True)\n",
        "#pdf.set_font('NotoSerifEthiopic', '', 9.0)\n",
        "\n",
        "pdf.format = 'A4'\n",
        "pdf.unit = 'in'\n",
        "pdf.set_margins(20.0, 10.0, 20.0)\n",
        "# Add new page. Without this you cannot create the document.\n",
        "pdf.add_page()\n",
        " \n",
        "# Remember to always put one of these at least once.\n",
        "#pdf.set_font('Times','',10.0) \n",
        "\n",
        "A4_height_inches = 11.6929\n",
        "effective_page_width = pdf.w - 2*pdf.l_margin\n",
        "effective_page_height = pdf.h - 2*pdf.b_margin\n",
        "\n",
        "multi_cell_width = (effective_page_width/2)-5\n",
        "\n",
        "rowh = 4.5\n",
        "ln = 6.5\n",
        "pdf.ln(ln)\n",
        "idx = '' # index alpha (start)\n",
        "for ind in df.index:\n",
        "  ybefore = pdf.get_y()\n",
        "  if df['index'][ind] != idx:\n",
        "    pdf.ln(ln*1.5)\n",
        "    ybefore = pdf.get_y()\n",
        "    # changement lettre index\n",
        "    pdf.set_font('DejaVuSans-Bold','',24.0)\n",
        "    pdf.set_text_color (98,163,98)\n",
        "    pdf.multi_cell(multi_cell_width,  rowh, df['index'][ind])\n",
        "    pdf.set_xy(effective_page_width/2 + pdf.l_margin, ybefore)\n",
        "    pdf.multi_cell(multi_cell_width,  rowh, \" \")\n",
        "    idx = df['index'][ind]\n",
        "    pdf.ln(ln)\n",
        "\n",
        "  ybefore = pdf.get_y()\n",
        "  pdf.set_font('DejaVuSans', '', 9.0)\n",
        "  pdf.set_text_color (0,0,0)\n",
        "  pdf.multi_cell(multi_cell_width,  rowh, df['expression'][ind])\n",
        "  pdf.set_xy(effective_page_width/2 + pdf.l_margin, ybefore)\n",
        "  #---- cas de l'alphabet arabe\n",
        "  # arabic_string = arabic_reshaper.reshape(df['ams'][ind])\n",
        "  # arabic_string = arabic_string[::-1]\n",
        "  # w = pdf.get_string_width(arabic_string) + 6\n",
        "  #pdf.cell(w, 9, arabic_string, 0, 1, 'L', 0)\n",
        "\n",
        "  #pdf.set_font('NotoSerifEthiopic', '', 9.0)\n",
        "  pdf.multi_cell(multi_cell_width,  rowh, df['rus'][ind])\n",
        "\n",
        "  pdf.ln(ln)\n",
        "\n",
        "  space_left = effective_page_height-pdf.get_y()\n",
        "  if space_left < 0:\n",
        "    pdf.add_page()\n",
        "    pdf.ln(ln*2)\n",
        "  #print (df['expression'][ind], str(space_left))\n",
        "\n",
        "pdf.ln(ln)  \n",
        "pdf.output('tut58.pdf', 'F')"
      ],
      "execution_count": 65,
      "outputs": [
        {
          "output_type": "execute_result",
          "data": {
            "application/vnd.google.colaboratory.intrinsic+json": {
              "type": "string"
            },
            "text/plain": [
              "''"
            ]
          },
          "metadata": {
            "tags": []
          },
          "execution_count": 65
        }
      ]
    },
    {
      "cell_type": "code",
      "metadata": {
        "colab": {
          "base_uri": "https://localhost:8080/"
        },
        "id": "TxzI5aaG2PSz",
        "outputId": "f6f09352-54bc-44b0-f791-7cb8824e5f2c"
      },
      "source": [
        "ls -l /usr/share/fonts/truetype/dejavu/"
      ],
      "execution_count": 39,
      "outputs": [
        {
          "output_type": "stream",
          "text": [
            "total 2956\n",
            "-rw-r--r-- 1 root root 705684 Jul 30  2016 DejaVuSans-Bold.ttf\n",
            "-rw-r--r-- 1 root root    549 Jun 14 08:39 DejaVuSans.cw127.pkl\n",
            "-rw-r--r-- 1 root root 331992 Jul 30  2016 DejaVuSansMono-Bold.ttf\n",
            "-rw-r--r-- 1 root root 340712 Jul 30  2016 DejaVuSansMono.ttf\n",
            "-rw-r--r-- 1 root root 136927 Jun 14 08:39 DejaVuSans.pkl\n",
            "-rw-r--r-- 1 root root 757076 Jul 30  2016 DejaVuSans.ttf\n",
            "-rw-r--r-- 1 root root 356088 Jul 30  2016 DejaVuSerif-Bold.ttf\n",
            "-rw-r--r-- 1 root root 380132 Jul 30  2016 DejaVuSerif.ttf\n"
          ],
          "name": "stdout"
        }
      ]
    },
    {
      "cell_type": "code",
      "metadata": {
        "id": "6JxKENWTapK0",
        "colab": {
          "base_uri": "https://localhost:8080/",
          "height": 35
        },
        "outputId": "f3363ae6-35f1-4efb-a916-d4d73023b23f"
      },
      "source": [
        "# Import FPDF class\n",
        "from fpdf import FPDF\n",
        "\n",
        "\n",
        "# Create instance of FPDF class\n",
        "# Letter size paper, use inches as unit of measure\n",
        "pdf=FPDF(format='A4', unit='in')\n",
        "pdf.add_font('DejaVuSans', '', '/usr/share/fonts/truetype/dejavu/DejaVuSans.ttf', uni=True)\n",
        "pdf.set_font('DejaVuSans', '', 9.0)\n",
        "\n",
        "pdf.add_font('NotoSerifEthiopic', '', '/usr/share/fonts/truetype/noto/NotoSerifEthiopic-Regular.ttf', uni=True)\n",
        "pdf.set_font('NotoSerifEthiopic', '', 9.0)\n",
        "# Add new page. Without this you cannot create the document.\n",
        "pdf.add_page()\n",
        " \n",
        "# Remember to always put one of these at least once.\n",
        "#pdf.set_font('Times','',10.0) \n",
        "\n",
        "A4_height_inches = 11.6929\n",
        "effective_page_width = pdf.w - 2*pdf.l_margin\n",
        "effective_page_height = pdf.h - 2*pdf.b_margin\n",
        "\n",
        "for ind in df.index:\n",
        "  ybefore = pdf.get_y()\n",
        "  pdf.multi_cell(effective_page_width/2,  0.15, df['expression'][ind])\n",
        "  pdf.set_xy(effective_page_width/2 + pdf.l_margin, ybefore)\n",
        "  pdf.multi_cell(effective_page_width/2,  0.15, df['tig'][ind])\n",
        "  pdf.ln(0.15)\n",
        "  space_left = effective_page_height-pdf.get_y()\n",
        "  if space_left < 0:\n",
        "    pdf.add_page()\n",
        "  #print (df['expression'][ind], str(space_left))\n",
        "\n",
        "pdf.output('test4.pdf','F')"
      ],
      "execution_count": null,
      "outputs": [
        {
          "output_type": "execute_result",
          "data": {
            "application/vnd.google.colaboratory.intrinsic+json": {
              "type": "string"
            },
            "text/plain": [
              "''"
            ]
          },
          "metadata": {
            "tags": []
          },
          "execution_count": 31
        }
      ]
    },
    {
      "cell_type": "code",
      "metadata": {
        "colab": {
          "base_uri": "https://localhost:8080/"
        },
        "id": "LfTASFnO0dyI",
        "outputId": "856d4aa8-74ad-4be8-fdda-623dad715fad"
      },
      "source": [
        "#!wget \"http://sourceforge.net/projects/dejavu/files/dejavu/2.37/dejavu-fonts-ttf-2.37.zip\"\n",
        "!unzip \"download?family=dejavu-fonts-ttf-2\"\n",
        "\n",
        "!mv DejaVuSans.ttf /usr/share/fonts/truetype/\n",
        "\n",
        "!fc-cache -f -v"
      ],
      "execution_count": null,
      "outputs": [
        {
          "output_type": "stream",
          "text": [
            "unzip:  cannot find or open download?family=dejavu-fonts-ttf-2, download?family=dejavu-fonts-ttf-2.zip or download?family=dejavu-fonts-ttf-2.ZIP.\n",
            "\n",
            "No zipfiles found.\n",
            "mv: cannot stat 'DejaVuSans.ttf': No such file or directory\n",
            "/usr/share/fonts: caching, new cache contents: 0 fonts, 1 dirs\n",
            "/usr/share/fonts/truetype: caching, new cache contents: 0 fonts, 3 dirs\n",
            "/usr/share/fonts/truetype/dejavu: caching, new cache contents: 6 fonts, 0 dirs\n",
            "/usr/share/fonts/truetype/humor-sans: caching, new cache contents: 1 fonts, 0 dirs\n",
            "/usr/share/fonts/truetype/liberation: caching, new cache contents: 16 fonts, 0 dirs\n",
            "/usr/local/share/fonts: caching, new cache contents: 0 fonts, 0 dirs\n",
            "/root/.local/share/fonts: skipping, no such directory\n",
            "/root/.fonts: skipping, no such directory\n",
            "/var/cache/fontconfig: cleaning cache directory\n",
            "/root/.cache/fontconfig: not cleaning non-existent cache directory\n",
            "/root/.fontconfig: not cleaning non-existent cache directory\n",
            "fc-cache: succeeded\n"
          ],
          "name": "stdout"
        }
      ]
    },
    {
      "cell_type": "code",
      "metadata": {
        "id": "eztXyolTz245"
      },
      "source": [
        ""
      ],
      "execution_count": null,
      "outputs": []
    }
  ]
}